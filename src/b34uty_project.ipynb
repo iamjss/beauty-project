{
 "cells": [
  {
   "cell_type": "code",
   "execution_count": 1,
   "metadata": {},
   "outputs": [
    {
     "name": "stderr",
     "output_type": "stream",
     "text": [
      "Using TensorFlow backend.\n"
     ]
    }
   ],
   "source": [
    "import os\n",
    "import pandas as pd\n",
    "import numpy as np\n",
    "    # Librerías para el procesado de imagen\n",
    "%matplotlib inline\n",
    "import matplotlib.pyplot as plt\n",
    "from keras.preprocessing import image\n",
    "from collections import defaultdict\n",
    "from PIL import Image\n",
    "import imageio\n",
    "from mlxtend.image import extract_face_landmarks"
   ]
  },
  {
   "cell_type": "code",
   "execution_count": 2,
   "metadata": {},
   "outputs": [],
   "source": [
    "path = '../input/'"
   ]
  },
  {
   "cell_type": "code",
   "execution_count": 3,
   "metadata": {},
   "outputs": [],
   "source": [
    "df = pd.read_excel(path + 'CFD_2.0.3_Norming_Data_and_Codebook.xlsx', sheet_name='CFD 2.0.3 Norming Data')"
   ]
  },
  {
   "cell_type": "code",
   "execution_count": 4,
   "metadata": {},
   "outputs": [
    {
     "data": {
      "text/html": [
       "<div>\n",
       "<style scoped>\n",
       "    .dataframe tbody tr th:only-of-type {\n",
       "        vertical-align: middle;\n",
       "    }\n",
       "\n",
       "    .dataframe tbody tr th {\n",
       "        vertical-align: top;\n",
       "    }\n",
       "\n",
       "    .dataframe thead th {\n",
       "        text-align: right;\n",
       "    }\n",
       "</style>\n",
       "<table border=\"1\" class=\"dataframe\">\n",
       "  <thead>\n",
       "    <tr style=\"text-align: right;\">\n",
       "      <th></th>\n",
       "      <th>Target</th>\n",
       "      <th>Race</th>\n",
       "      <th>Gender</th>\n",
       "      <th>Age</th>\n",
       "      <th>NumberofRaters</th>\n",
       "      <th>Female_prop</th>\n",
       "      <th>Male_prop</th>\n",
       "      <th>Asian_prop</th>\n",
       "      <th>Black_prop</th>\n",
       "      <th>Latino_prop</th>\n",
       "      <th>...</th>\n",
       "      <th>EyeShape</th>\n",
       "      <th>EyeSize</th>\n",
       "      <th>UpperHeadLength</th>\n",
       "      <th>MidfaceLength</th>\n",
       "      <th>ChinLength</th>\n",
       "      <th>ForeheadHeight</th>\n",
       "      <th>CheekboneHeight</th>\n",
       "      <th>CheekboneProminence</th>\n",
       "      <th>FaceRoundness</th>\n",
       "      <th>fWHR</th>\n",
       "    </tr>\n",
       "  </thead>\n",
       "  <tbody>\n",
       "    <tr>\n",
       "      <th>0</th>\n",
       "      <td>AF-200</td>\n",
       "      <td>A</td>\n",
       "      <td>F</td>\n",
       "      <td>32.571429</td>\n",
       "      <td>28</td>\n",
       "      <td>1.000000</td>\n",
       "      <td>0.000000</td>\n",
       "      <td>1.000000</td>\n",
       "      <td>0.000000</td>\n",
       "      <td>0.000000</td>\n",
       "      <td>...</td>\n",
       "      <td>0.404651</td>\n",
       "      <td>0.060924</td>\n",
       "      <td>0.414099</td>\n",
       "      <td>0.326797</td>\n",
       "      <td>0.130719</td>\n",
       "      <td>0.264706</td>\n",
       "      <td>0.388189</td>\n",
       "      <td>91.5</td>\n",
       "      <td>0.545752</td>\n",
       "      <td>1.921146</td>\n",
       "    </tr>\n",
       "    <tr>\n",
       "      <th>1</th>\n",
       "      <td>AF-201</td>\n",
       "      <td>A</td>\n",
       "      <td>F</td>\n",
       "      <td>23.666667</td>\n",
       "      <td>27</td>\n",
       "      <td>1.000000</td>\n",
       "      <td>0.000000</td>\n",
       "      <td>0.962963</td>\n",
       "      <td>0.000000</td>\n",
       "      <td>0.000000</td>\n",
       "      <td>...</td>\n",
       "      <td>0.329204</td>\n",
       "      <td>0.041892</td>\n",
       "      <td>0.414414</td>\n",
       "      <td>0.329279</td>\n",
       "      <td>0.144595</td>\n",
       "      <td>0.300901</td>\n",
       "      <td>0.383784</td>\n",
       "      <td>146.0</td>\n",
       "      <td>0.488288</td>\n",
       "      <td>1.901129</td>\n",
       "    </tr>\n",
       "    <tr>\n",
       "      <th>2</th>\n",
       "      <td>AF-202</td>\n",
       "      <td>A</td>\n",
       "      <td>F</td>\n",
       "      <td>24.448276</td>\n",
       "      <td>29</td>\n",
       "      <td>0.827586</td>\n",
       "      <td>0.172414</td>\n",
       "      <td>0.310345</td>\n",
       "      <td>0.068966</td>\n",
       "      <td>0.137931</td>\n",
       "      <td>...</td>\n",
       "      <td>0.357939</td>\n",
       "      <td>0.051586</td>\n",
       "      <td>0.411080</td>\n",
       "      <td>0.310317</td>\n",
       "      <td>0.173424</td>\n",
       "      <td>0.298475</td>\n",
       "      <td>0.397029</td>\n",
       "      <td>58.0</td>\n",
       "      <td>0.481333</td>\n",
       "      <td>1.888249</td>\n",
       "    </tr>\n",
       "    <tr>\n",
       "      <th>3</th>\n",
       "      <td>AF-203</td>\n",
       "      <td>A</td>\n",
       "      <td>F</td>\n",
       "      <td>22.758621</td>\n",
       "      <td>29</td>\n",
       "      <td>1.000000</td>\n",
       "      <td>0.000000</td>\n",
       "      <td>0.758621</td>\n",
       "      <td>0.000000</td>\n",
       "      <td>0.068966</td>\n",
       "      <td>...</td>\n",
       "      <td>0.443200</td>\n",
       "      <td>0.063913</td>\n",
       "      <td>0.354407</td>\n",
       "      <td>0.343793</td>\n",
       "      <td>0.169820</td>\n",
       "      <td>0.272266</td>\n",
       "      <td>0.421089</td>\n",
       "      <td>87.5</td>\n",
       "      <td>0.500231</td>\n",
       "      <td>1.863719</td>\n",
       "    </tr>\n",
       "    <tr>\n",
       "      <th>4</th>\n",
       "      <td>AF-204</td>\n",
       "      <td>A</td>\n",
       "      <td>F</td>\n",
       "      <td>30.137931</td>\n",
       "      <td>29</td>\n",
       "      <td>1.000000</td>\n",
       "      <td>0.000000</td>\n",
       "      <td>0.827586</td>\n",
       "      <td>0.000000</td>\n",
       "      <td>0.068966</td>\n",
       "      <td>...</td>\n",
       "      <td>0.432247</td>\n",
       "      <td>0.053435</td>\n",
       "      <td>0.438931</td>\n",
       "      <td>0.293045</td>\n",
       "      <td>0.180237</td>\n",
       "      <td>0.293893</td>\n",
       "      <td>0.371925</td>\n",
       "      <td>73.5</td>\n",
       "      <td>0.513571</td>\n",
       "      <td>1.935783</td>\n",
       "    </tr>\n",
       "  </tbody>\n",
       "</table>\n",
       "<p>5 rows × 69 columns</p>\n",
       "</div>"
      ],
      "text/plain": [
       "   Target Race Gender        Age  NumberofRaters  Female_prop  Male_prop  \\\n",
       "0  AF-200    A      F  32.571429              28     1.000000   0.000000   \n",
       "1  AF-201    A      F  23.666667              27     1.000000   0.000000   \n",
       "2  AF-202    A      F  24.448276              29     0.827586   0.172414   \n",
       "3  AF-203    A      F  22.758621              29     1.000000   0.000000   \n",
       "4  AF-204    A      F  30.137931              29     1.000000   0.000000   \n",
       "\n",
       "   Asian_prop  Black_prop  Latino_prop  ...  EyeShape   EyeSize  \\\n",
       "0    1.000000    0.000000     0.000000  ...  0.404651  0.060924   \n",
       "1    0.962963    0.000000     0.000000  ...  0.329204  0.041892   \n",
       "2    0.310345    0.068966     0.137931  ...  0.357939  0.051586   \n",
       "3    0.758621    0.000000     0.068966  ...  0.443200  0.063913   \n",
       "4    0.827586    0.000000     0.068966  ...  0.432247  0.053435   \n",
       "\n",
       "   UpperHeadLength  MidfaceLength  ChinLength  ForeheadHeight  \\\n",
       "0         0.414099       0.326797    0.130719        0.264706   \n",
       "1         0.414414       0.329279    0.144595        0.300901   \n",
       "2         0.411080       0.310317    0.173424        0.298475   \n",
       "3         0.354407       0.343793    0.169820        0.272266   \n",
       "4         0.438931       0.293045    0.180237        0.293893   \n",
       "\n",
       "   CheekboneHeight  CheekboneProminence  FaceRoundness      fWHR  \n",
       "0         0.388189                 91.5       0.545752  1.921146  \n",
       "1         0.383784                146.0       0.488288  1.901129  \n",
       "2         0.397029                 58.0       0.481333  1.888249  \n",
       "3         0.421089                 87.5       0.500231  1.863719  \n",
       "4         0.371925                 73.5       0.513571  1.935783  \n",
       "\n",
       "[5 rows x 69 columns]"
      ]
     },
     "execution_count": 4,
     "metadata": {},
     "output_type": "execute_result"
    }
   ],
   "source": [
    "df.head()"
   ]
  },
  {
   "cell_type": "code",
   "execution_count": 5,
   "metadata": {},
   "outputs": [
    {
     "data": {
      "text/html": [
       "<div>\n",
       "<style scoped>\n",
       "    .dataframe tbody tr th:only-of-type {\n",
       "        vertical-align: middle;\n",
       "    }\n",
       "\n",
       "    .dataframe tbody tr th {\n",
       "        vertical-align: top;\n",
       "    }\n",
       "\n",
       "    .dataframe thead th {\n",
       "        text-align: right;\n",
       "    }\n",
       "</style>\n",
       "<table border=\"1\" class=\"dataframe\">\n",
       "  <thead>\n",
       "    <tr style=\"text-align: right;\">\n",
       "      <th></th>\n",
       "      <th>Target</th>\n",
       "      <th>Attractive</th>\n",
       "    </tr>\n",
       "  </thead>\n",
       "  <tbody>\n",
       "    <tr>\n",
       "      <th>0</th>\n",
       "      <td>AF-200</td>\n",
       "      <td>4.111111</td>\n",
       "    </tr>\n",
       "    <tr>\n",
       "      <th>1</th>\n",
       "      <td>AF-201</td>\n",
       "      <td>3.111111</td>\n",
       "    </tr>\n",
       "    <tr>\n",
       "      <th>2</th>\n",
       "      <td>AF-202</td>\n",
       "      <td>3.000000</td>\n",
       "    </tr>\n",
       "    <tr>\n",
       "      <th>3</th>\n",
       "      <td>AF-203</td>\n",
       "      <td>3.275862</td>\n",
       "    </tr>\n",
       "    <tr>\n",
       "      <th>4</th>\n",
       "      <td>AF-204</td>\n",
       "      <td>3.172414</td>\n",
       "    </tr>\n",
       "  </tbody>\n",
       "</table>\n",
       "</div>"
      ],
      "text/plain": [
       "   Target  Attractive\n",
       "0  AF-200    4.111111\n",
       "1  AF-201    3.111111\n",
       "2  AF-202    3.000000\n",
       "3  AF-203    3.275862\n",
       "4  AF-204    3.172414"
      ]
     },
     "execution_count": 5,
     "metadata": {},
     "output_type": "execute_result"
    }
   ],
   "source": [
    "df_clean = df[['Target', 'Attractive']]\n",
    "df_clean.head()"
   ]
  },
  {
   "cell_type": "code",
   "execution_count": 6,
   "metadata": {},
   "outputs": [
    {
     "name": "stdout",
     "output_type": "stream",
     "text": [
      "(597, 2)\n"
     ]
    }
   ],
   "source": [
    "print(df_clean.shape)"
   ]
  },
  {
   "cell_type": "code",
   "execution_count": 7,
   "metadata": {},
   "outputs": [],
   "source": [
    "all_images = defaultdict(list)\n",
    "for filename, rating in df_clean.values:\n",
    "    all_images[filename].append(rating)"
   ]
  },
  {
   "cell_type": "code",
   "execution_count": 8,
   "metadata": {},
   "outputs": [],
   "source": [
    "ratings = {}\n",
    "for filename, rating in all_images.items():\n",
    "    ratings[filename] = np.mean(rating)"
   ]
  },
  {
   "cell_type": "code",
   "execution_count": 9,
   "metadata": {},
   "outputs": [
    {
     "name": "stdout",
     "output_type": "stream",
     "text": [
      "597\n"
     ]
    }
   ],
   "source": [
    "value = []\n",
    "path2 = path + 'CFD-Version-2.0.3-Norming-Data/Images/'\n",
    "path3 = path + 'CFD-Version-2.0.3-Norming-Data/Images_resized/'\n",
    "for filename in os.listdir(path2):\n",
    "    img_path = path2 + filename\n",
    "    img = image.load_img(img_path).convert('L')\n",
    "    img.thumbnail((210,210), Image.ANTIALIAS)\n",
    "    img.save(path3 + filename, \"JPEG\")\n",
    "    value.append(ratings[filename[:6]])\n",
    "print(len(value))"
   ]
  },
  {
   "cell_type": "code",
   "execution_count": 10,
   "metadata": {},
   "outputs": [],
   "source": [
    "images_array = []\n",
    "landmarks = []\n",
    "for filename in os.listdir(path3):\n",
    "    img = imageio.imread(path3 + filename)\n",
    "    landmark = extract_face_landmarks(img)\n",
    "    #img = image.img_to_array(img)\n",
    "    images_array.append(img)\n",
    "    landmarks.append(landmark)"
   ]
  },
  {
   "cell_type": "code",
   "execution_count": 11,
   "metadata": {},
   "outputs": [
    {
     "name": "stdout",
     "output_type": "stream",
     "text": [
      "<class 'list'>\n"
     ]
    }
   ],
   "source": [
    "print(type(images_array))\n",
    "#print(images_array)"
   ]
  },
  {
   "cell_type": "code",
   "execution_count": 12,
   "metadata": {},
   "outputs": [
    {
     "name": "stdout",
     "output_type": "stream",
     "text": [
      "<class 'numpy.ndarray'> <class 'numpy.ndarray'>\n",
      "(598,) (147, 210) (598, 68, 2)\n",
      "\n",
      "First 10 landmarks:\n",
      " [[ 69  68]\n",
      " [ 70  77]\n",
      " [ 71  86]\n",
      " [ 73  95]\n",
      " [ 76 104]\n",
      " [ 81 112]\n",
      " [ 88 118]\n",
      " [ 96 123]\n",
      " [105 125]\n",
      " [115 123]]\n"
     ]
    }
   ],
   "source": [
    "images_array = np.array(images_array)\n",
    "landmarks = np.array(landmarks)\n",
    "print(type(images_array),type(landmarks))\n",
    "print(images_array.shape, images_array[0].shape, landmarks.shape)\n",
    "print('\\nFirst 10 landmarks:\\n', landmarks[0][:10])"
   ]
  },
  {
   "cell_type": "code",
   "execution_count": 13,
   "metadata": {
    "scrolled": true
   },
   "outputs": [
    {
     "name": "stdout",
     "output_type": "stream",
     "text": [
      "Rating: 4.111111111\n"
     ]
    },
    {
     "data": {
      "image/png": "[encoded data removed]",
      "text/plain": [
       "<Figure size 1512x504 with 3 Axes>"
      ]
     },
     "metadata": {
      "needs_background": "light"
     },
     "output_type": "display_data"
    }
   ],
   "source": [
    "def plot_landmarks(img, landmarks, to_print=False, filename='example_landmarks.png'):\n",
    "    fig = plt.figure(figsize=(21, 7))\n",
    "    ax = fig.add_subplot(1, 3, 1)\n",
    "    #img = np.reshape(img, (147,210))\n",
    "    ax.imshow(img, cmap='gray')\n",
    "    ax = fig.add_subplot(1, 3, 2)\n",
    "    ax.scatter(landmarks[:, 0], -landmarks[:, 1], c='deeppink', alpha=0.8)\n",
    "    ax = fig.add_subplot(1, 3, 3)\n",
    "    img2 = img.copy()\n",
    "    ax.imshow(img2, cmap='gray')\n",
    "    ax.scatter(landmarks[:, 0], landmarks[:, 1], c='deeppink', alpha=0.8)\n",
    "    if to_print: \n",
    "        fig.savefig('../images/' + filename)\n",
    "    plt.show()\n",
    "    \n",
    "print('Rating: {}'.format(value[16]))\n",
    "plot_landmarks(images_array[16], landmarks[16], to_print=True)"
   ]
  },
  {
   "cell_type": "code",
   "execution_count": 14,
   "metadata": {},
   "outputs": [],
   "source": [
    "total_land = 68*2\n",
    "landmarks_ = landmarks.reshape(598,total_land)"
   ]
  },
  {
   "cell_type": "code",
   "execution_count": 15,
   "metadata": {},
   "outputs": [
    {
     "data": {
      "text/html": [
       "<div>\n",
       "<style scoped>\n",
       "    .dataframe tbody tr th:only-of-type {\n",
       "        vertical-align: middle;\n",
       "    }\n",
       "\n",
       "    .dataframe tbody tr th {\n",
       "        vertical-align: top;\n",
       "    }\n",
       "\n",
       "    .dataframe thead th {\n",
       "        text-align: right;\n",
       "    }\n",
       "</style>\n",
       "<table border=\"1\" class=\"dataframe\">\n",
       "  <thead>\n",
       "    <tr style=\"text-align: right;\">\n",
       "      <th></th>\n",
       "      <th>Images</th>\n",
       "      <th>Rating</th>\n",
       "      <th>Landmarks</th>\n",
       "    </tr>\n",
       "  </thead>\n",
       "  <tbody>\n",
       "    <tr>\n",
       "      <th>0</th>\n",
       "      <td>[[255, 255, 255, 255, 255, 255, 255, 255, 255,...</td>\n",
       "      <td>3.821429</td>\n",
       "      <td>[69, 68, 70, 77, 71, 86, 73, 95, 76, 104, 81, ...</td>\n",
       "    </tr>\n",
       "    <tr>\n",
       "      <th>1</th>\n",
       "      <td>[[255, 255, 255, 255, 255, 255, 255, 255, 255,...</td>\n",
       "      <td>2.777778</td>\n",
       "      <td>[68, 69, 69, 78, 70, 88, 72, 97, 74, 106, 79, ...</td>\n",
       "    </tr>\n",
       "    <tr>\n",
       "      <th>2</th>\n",
       "      <td>[[255, 255, 255, 255, 255, 255, 255, 255, 255,...</td>\n",
       "      <td>3.280000</td>\n",
       "      <td>[72, 67, 72, 76, 74, 85, 76, 94, 78, 102, 82, ...</td>\n",
       "    </tr>\n",
       "    <tr>\n",
       "      <th>3</th>\n",
       "      <td>[[255, 255, 255, 255, 255, 255, 255, 255, 255,...</td>\n",
       "      <td>3.857143</td>\n",
       "      <td>[68, 68, 70, 78, 72, 87, 74, 96, 77, 106, 82, ...</td>\n",
       "    </tr>\n",
       "    <tr>\n",
       "      <th>4</th>\n",
       "      <td>[[255, 255, 255, 255, 255, 255, 255, 255, 255,...</td>\n",
       "      <td>3.000000</td>\n",
       "      <td>[69, 69, 70, 78, 71, 86, 73, 94, 76, 102, 81, ...</td>\n",
       "    </tr>\n",
       "  </tbody>\n",
       "</table>\n",
       "</div>"
      ],
      "text/plain": [
       "                                              Images    Rating  \\\n",
       "0  [[255, 255, 255, 255, 255, 255, 255, 255, 255,...  3.821429   \n",
       "1  [[255, 255, 255, 255, 255, 255, 255, 255, 255,...  2.777778   \n",
       "2  [[255, 255, 255, 255, 255, 255, 255, 255, 255,...  3.280000   \n",
       "3  [[255, 255, 255, 255, 255, 255, 255, 255, 255,...  3.857143   \n",
       "4  [[255, 255, 255, 255, 255, 255, 255, 255, 255,...  3.000000   \n",
       "\n",
       "                                           Landmarks  \n",
       "0  [69, 68, 70, 77, 71, 86, 73, 95, 76, 104, 81, ...  \n",
       "1  [68, 69, 69, 78, 70, 88, 72, 97, 74, 106, 79, ...  \n",
       "2  [72, 67, 72, 76, 74, 85, 76, 94, 78, 102, 82, ...  \n",
       "3  [68, 68, 70, 78, 72, 87, 74, 96, 77, 106, 82, ...  \n",
       "4  [69, 69, 70, 78, 71, 86, 73, 94, 76, 102, 81, ...  "
      ]
     },
     "execution_count": 15,
     "metadata": {},
     "output_type": "execute_result"
    }
   ],
   "source": [
    "data_zipped = list(zip(images_array, value, landmarks_))\n",
    "data = pd.DataFrame(data_zipped, columns=['Images','Rating', 'Landmarks'])\n",
    "data.head()"
   ]
  },
  {
   "cell_type": "code",
   "execution_count": 16,
   "metadata": {},
   "outputs": [
    {
     "data": {
      "text/html": [
       "<div>\n",
       "<style scoped>\n",
       "    .dataframe tbody tr th:only-of-type {\n",
       "        vertical-align: middle;\n",
       "    }\n",
       "\n",
       "    .dataframe tbody tr th {\n",
       "        vertical-align: top;\n",
       "    }\n",
       "\n",
       "    .dataframe thead th {\n",
       "        text-align: right;\n",
       "    }\n",
       "</style>\n",
       "<table border=\"1\" class=\"dataframe\">\n",
       "  <thead>\n",
       "    <tr style=\"text-align: right;\">\n",
       "      <th></th>\n",
       "      <th>x_0</th>\n",
       "      <th>y_0</th>\n",
       "      <th>x_2</th>\n",
       "      <th>y_2</th>\n",
       "      <th>x_4</th>\n",
       "      <th>y_4</th>\n",
       "      <th>x_6</th>\n",
       "      <th>y_6</th>\n",
       "      <th>x_8</th>\n",
       "      <th>y_8</th>\n",
       "      <th>...</th>\n",
       "      <th>x_126</th>\n",
       "      <th>y_126</th>\n",
       "      <th>x_128</th>\n",
       "      <th>y_128</th>\n",
       "      <th>x_130</th>\n",
       "      <th>y_130</th>\n",
       "      <th>x_132</th>\n",
       "      <th>y_132</th>\n",
       "      <th>x_134</th>\n",
       "      <th>y_134</th>\n",
       "    </tr>\n",
       "  </thead>\n",
       "  <tbody>\n",
       "    <tr>\n",
       "      <th>0</th>\n",
       "      <td>69</td>\n",
       "      <td>68</td>\n",
       "      <td>70</td>\n",
       "      <td>77</td>\n",
       "      <td>71</td>\n",
       "      <td>86</td>\n",
       "      <td>73</td>\n",
       "      <td>95</td>\n",
       "      <td>76</td>\n",
       "      <td>104</td>\n",
       "      <td>...</td>\n",
       "      <td>108</td>\n",
       "      <td>100</td>\n",
       "      <td>116</td>\n",
       "      <td>102</td>\n",
       "      <td>109</td>\n",
       "      <td>101</td>\n",
       "      <td>105</td>\n",
       "      <td>101</td>\n",
       "      <td>101</td>\n",
       "      <td>101</td>\n",
       "    </tr>\n",
       "    <tr>\n",
       "      <th>1</th>\n",
       "      <td>68</td>\n",
       "      <td>69</td>\n",
       "      <td>69</td>\n",
       "      <td>78</td>\n",
       "      <td>70</td>\n",
       "      <td>88</td>\n",
       "      <td>72</td>\n",
       "      <td>97</td>\n",
       "      <td>74</td>\n",
       "      <td>106</td>\n",
       "      <td>...</td>\n",
       "      <td>108</td>\n",
       "      <td>99</td>\n",
       "      <td>116</td>\n",
       "      <td>101</td>\n",
       "      <td>108</td>\n",
       "      <td>99</td>\n",
       "      <td>104</td>\n",
       "      <td>100</td>\n",
       "      <td>101</td>\n",
       "      <td>100</td>\n",
       "    </tr>\n",
       "    <tr>\n",
       "      <th>2</th>\n",
       "      <td>72</td>\n",
       "      <td>67</td>\n",
       "      <td>72</td>\n",
       "      <td>76</td>\n",
       "      <td>74</td>\n",
       "      <td>85</td>\n",
       "      <td>76</td>\n",
       "      <td>94</td>\n",
       "      <td>78</td>\n",
       "      <td>102</td>\n",
       "      <td>...</td>\n",
       "      <td>109</td>\n",
       "      <td>101</td>\n",
       "      <td>118</td>\n",
       "      <td>101</td>\n",
       "      <td>109</td>\n",
       "      <td>101</td>\n",
       "      <td>104</td>\n",
       "      <td>102</td>\n",
       "      <td>101</td>\n",
       "      <td>101</td>\n",
       "    </tr>\n",
       "    <tr>\n",
       "      <th>3</th>\n",
       "      <td>68</td>\n",
       "      <td>68</td>\n",
       "      <td>70</td>\n",
       "      <td>78</td>\n",
       "      <td>72</td>\n",
       "      <td>87</td>\n",
       "      <td>74</td>\n",
       "      <td>96</td>\n",
       "      <td>77</td>\n",
       "      <td>106</td>\n",
       "      <td>...</td>\n",
       "      <td>109</td>\n",
       "      <td>100</td>\n",
       "      <td>116</td>\n",
       "      <td>100</td>\n",
       "      <td>109</td>\n",
       "      <td>100</td>\n",
       "      <td>106</td>\n",
       "      <td>100</td>\n",
       "      <td>103</td>\n",
       "      <td>100</td>\n",
       "    </tr>\n",
       "    <tr>\n",
       "      <th>4</th>\n",
       "      <td>69</td>\n",
       "      <td>69</td>\n",
       "      <td>70</td>\n",
       "      <td>78</td>\n",
       "      <td>71</td>\n",
       "      <td>86</td>\n",
       "      <td>73</td>\n",
       "      <td>94</td>\n",
       "      <td>76</td>\n",
       "      <td>102</td>\n",
       "      <td>...</td>\n",
       "      <td>109</td>\n",
       "      <td>96</td>\n",
       "      <td>116</td>\n",
       "      <td>97</td>\n",
       "      <td>109</td>\n",
       "      <td>97</td>\n",
       "      <td>106</td>\n",
       "      <td>98</td>\n",
       "      <td>103</td>\n",
       "      <td>97</td>\n",
       "    </tr>\n",
       "  </tbody>\n",
       "</table>\n",
       "<p>5 rows × 136 columns</p>\n",
       "</div>"
      ],
      "text/plain": [
       "   x_0  y_0  x_2  y_2  x_4  y_4  x_6  y_6  x_8  y_8  ...  x_126  y_126  x_128  \\\n",
       "0   69   68   70   77   71   86   73   95   76  104  ...    108    100    116   \n",
       "1   68   69   69   78   70   88   72   97   74  106  ...    108     99    116   \n",
       "2   72   67   72   76   74   85   76   94   78  102  ...    109    101    118   \n",
       "3   68   68   70   78   72   87   74   96   77  106  ...    109    100    116   \n",
       "4   69   69   70   78   71   86   73   94   76  102  ...    109     96    116   \n",
       "\n",
       "   y_128  x_130  y_130  x_132  y_132  x_134  y_134  \n",
       "0    102    109    101    105    101    101    101  \n",
       "1    101    108     99    104    100    101    100  \n",
       "2    101    109    101    104    102    101    101  \n",
       "3    100    109    100    106    100    103    100  \n",
       "4     97    109     97    106     98    103     97  \n",
       "\n",
       "[5 rows x 136 columns]"
      ]
     },
     "execution_count": 16,
     "metadata": {},
     "output_type": "execute_result"
    }
   ],
   "source": [
    "df_landmarks = data['Landmarks']\n",
    "df_landmarks = pd.concat([df_landmarks.apply(pd.Series), df_landmarks], axis=1).drop(['Landmarks'], axis=1).head()\n",
    "df_landmarks.columns = [\"x_%d\"%i if i%2==0 or i==0 else \"y_%d\"%(i-1) for i in range(136)]\n",
    "df_landmarks.head()"
   ]
  },
  {
   "cell_type": "code",
   "execution_count": 17,
   "metadata": {},
   "outputs": [],
   "source": [
    "score = data['Rating']\n",
    "def create_bins(data):\n",
    "    bins = (0, 1.49, 2, 2.49, 3, 3.49, 4, 4.49, 5, 5.5)\n",
    "    labels = ('1', '1.5', '2', '2.5', '3', '3.5', '4', '4.5', '5')\n",
    "    groups = pd.cut(score, bins=bins, labels=labels)\n",
    "    return groups"
   ]
  },
  {
   "cell_type": "code",
   "execution_count": 18,
   "metadata": {},
   "outputs": [
    {
     "data": {
      "text/html": [
       "<div>\n",
       "<style scoped>\n",
       "    .dataframe tbody tr th:only-of-type {\n",
       "        vertical-align: middle;\n",
       "    }\n",
       "\n",
       "    .dataframe tbody tr th {\n",
       "        vertical-align: top;\n",
       "    }\n",
       "\n",
       "    .dataframe thead th {\n",
       "        text-align: right;\n",
       "    }\n",
       "</style>\n",
       "<table border=\"1\" class=\"dataframe\">\n",
       "  <thead>\n",
       "    <tr style=\"text-align: right;\">\n",
       "      <th></th>\n",
       "      <th>Images</th>\n",
       "      <th>Ratings</th>\n",
       "    </tr>\n",
       "  </thead>\n",
       "  <tbody>\n",
       "    <tr>\n",
       "      <th>0</th>\n",
       "      <td>[[255, 255, 255, 255, 255, 255, 255, 255, 255,...</td>\n",
       "      <td>3.5</td>\n",
       "    </tr>\n",
       "    <tr>\n",
       "      <th>1</th>\n",
       "      <td>[[255, 255, 255, 255, 255, 255, 255, 255, 255,...</td>\n",
       "      <td>2.5</td>\n",
       "    </tr>\n",
       "    <tr>\n",
       "      <th>2</th>\n",
       "      <td>[[255, 255, 255, 255, 255, 255, 255, 255, 255,...</td>\n",
       "      <td>3</td>\n",
       "    </tr>\n",
       "    <tr>\n",
       "      <th>3</th>\n",
       "      <td>[[255, 255, 255, 255, 255, 255, 255, 255, 255,...</td>\n",
       "      <td>3.5</td>\n",
       "    </tr>\n",
       "    <tr>\n",
       "      <th>4</th>\n",
       "      <td>[[255, 255, 255, 255, 255, 255, 255, 255, 255,...</td>\n",
       "      <td>2.5</td>\n",
       "    </tr>\n",
       "  </tbody>\n",
       "</table>\n",
       "</div>"
      ],
      "text/plain": [
       "                                              Images Ratings\n",
       "0  [[255, 255, 255, 255, 255, 255, 255, 255, 255,...     3.5\n",
       "1  [[255, 255, 255, 255, 255, 255, 255, 255, 255,...     2.5\n",
       "2  [[255, 255, 255, 255, 255, 255, 255, 255, 255,...       3\n",
       "3  [[255, 255, 255, 255, 255, 255, 255, 255, 255,...     3.5\n",
       "4  [[255, 255, 255, 255, 255, 255, 255, 255, 255,...     2.5"
      ]
     },
     "execution_count": 18,
     "metadata": {},
     "output_type": "execute_result"
    }
   ],
   "source": [
    "data['Ratings'] = create_bins(data)\n",
    "data = data.drop(['Rating','Landmarks'], axis=1)\n",
    "data.head()"
   ]
  },
  {
   "cell_type": "code",
   "execution_count": 19,
   "metadata": {},
   "outputs": [],
   "source": [
    "def save_csv(name, filename):\n",
    "    name.to_csv('../src/' + filename, index=False)"
   ]
  },
  {
   "cell_type": "code",
   "execution_count": 20,
   "metadata": {},
   "outputs": [],
   "source": [
    "save_csv(df_landmarks, filename='landmarks_cleaned.csv')"
   ]
  },
  {
   "cell_type": "code",
   "execution_count": 21,
   "metadata": {},
   "outputs": [],
   "source": [
    "save_csv(data, filename='data_cleaned.csv')"
   ]
  },
  {
   "cell_type": "code",
   "execution_count": null,
   "metadata": {},
   "outputs": [],
   "source": []
  },
  {
   "cell_type": "code",
   "execution_count": null,
   "metadata": {},
   "outputs": [],
   "source": []
  }
 ],
 "metadata": {
  "kernelspec": {
   "display_name": "Python 3",
   "language": "python",
   "name": "python3"
  },
  "language_info": {
   "codemirror_mode": {
    "name": "ipython",
    "version": 3
   },
   "file_extension": ".py",
   "mimetype": "text/x-python",
   "name": "python",
   "nbconvert_exporter": "python",
   "pygments_lexer": "ipython3",
   "version": "3.6.7"
  }
 },
 "nbformat": 4,
 "nbformat_minor": 2
}
