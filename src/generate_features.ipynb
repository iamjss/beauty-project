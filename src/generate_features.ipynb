{
 "cells": [
  {
   "cell_type": "code",
   "execution_count": 1,
   "metadata": {},
   "outputs": [
    {
     "name": "stderr",
     "output_type": "stream",
     "text": [
      "Using TensorFlow backend.\n"
     ]
    }
   ],
   "source": [
    "import os\n",
    "import pandas as pd\n",
    "import numpy as np\n",
    "# Librerías para el procesado de imagen\n",
    "%matplotlib inline\n",
    "import matplotlib.pyplot as plt\n",
    "from keras.preprocessing import image\n",
    "from collections import defaultdict\n",
    "from PIL import Image\n",
    "import imageio\n",
    "from mlxtend.image import extract_face_landmarks"
   ]
  },
  {
   "cell_type": "code",
   "execution_count": 2,
   "metadata": {},
   "outputs": [],
   "source": [
    "path = '../input/'"
   ]
  },
  {
   "cell_type": "code",
   "execution_count": 3,
   "metadata": {},
   "outputs": [],
   "source": [
    "df = pd.read_excel(path + 'CFD_2.0.3_Norming_Data_and_Codebook.xlsx', sheet_name='CFD 2.0.3 Norming Data')"
   ]
  },
  {
   "cell_type": "code",
   "execution_count": 4,
   "metadata": {},
   "outputs": [
    {
     "data": {
      "text/html": [
       "<div>\n",
       "<style scoped>\n",
       "    .dataframe tbody tr th:only-of-type {\n",
       "        vertical-align: middle;\n",
       "    }\n",
       "\n",
       "    .dataframe tbody tr th {\n",
       "        vertical-align: top;\n",
       "    }\n",
       "\n",
       "    .dataframe thead th {\n",
       "        text-align: right;\n",
       "    }\n",
       "</style>\n",
       "<table border=\"1\" class=\"dataframe\">\n",
       "  <thead>\n",
       "    <tr style=\"text-align: right;\">\n",
       "      <th></th>\n",
       "      <th>Target</th>\n",
       "      <th>Race</th>\n",
       "      <th>Gender</th>\n",
       "      <th>Age</th>\n",
       "      <th>NumberofRaters</th>\n",
       "      <th>Female_prop</th>\n",
       "      <th>Male_prop</th>\n",
       "      <th>Asian_prop</th>\n",
       "      <th>Black_prop</th>\n",
       "      <th>Latino_prop</th>\n",
       "      <th>...</th>\n",
       "      <th>EyeShape</th>\n",
       "      <th>EyeSize</th>\n",
       "      <th>UpperHeadLength</th>\n",
       "      <th>MidfaceLength</th>\n",
       "      <th>ChinLength</th>\n",
       "      <th>ForeheadHeight</th>\n",
       "      <th>CheekboneHeight</th>\n",
       "      <th>CheekboneProminence</th>\n",
       "      <th>FaceRoundness</th>\n",
       "      <th>fWHR</th>\n",
       "    </tr>\n",
       "  </thead>\n",
       "  <tbody>\n",
       "    <tr>\n",
       "      <th>0</th>\n",
       "      <td>AF-200</td>\n",
       "      <td>A</td>\n",
       "      <td>F</td>\n",
       "      <td>32.571429</td>\n",
       "      <td>28</td>\n",
       "      <td>1.000000</td>\n",
       "      <td>0.000000</td>\n",
       "      <td>1.000000</td>\n",
       "      <td>0.000000</td>\n",
       "      <td>0.000000</td>\n",
       "      <td>...</td>\n",
       "      <td>0.404651</td>\n",
       "      <td>0.060924</td>\n",
       "      <td>0.414099</td>\n",
       "      <td>0.326797</td>\n",
       "      <td>0.130719</td>\n",
       "      <td>0.264706</td>\n",
       "      <td>0.388189</td>\n",
       "      <td>91.5</td>\n",
       "      <td>0.545752</td>\n",
       "      <td>1.921146</td>\n",
       "    </tr>\n",
       "    <tr>\n",
       "      <th>1</th>\n",
       "      <td>AF-201</td>\n",
       "      <td>A</td>\n",
       "      <td>F</td>\n",
       "      <td>23.666667</td>\n",
       "      <td>27</td>\n",
       "      <td>1.000000</td>\n",
       "      <td>0.000000</td>\n",
       "      <td>0.962963</td>\n",
       "      <td>0.000000</td>\n",
       "      <td>0.000000</td>\n",
       "      <td>...</td>\n",
       "      <td>0.329204</td>\n",
       "      <td>0.041892</td>\n",
       "      <td>0.414414</td>\n",
       "      <td>0.329279</td>\n",
       "      <td>0.144595</td>\n",
       "      <td>0.300901</td>\n",
       "      <td>0.383784</td>\n",
       "      <td>146.0</td>\n",
       "      <td>0.488288</td>\n",
       "      <td>1.901129</td>\n",
       "    </tr>\n",
       "    <tr>\n",
       "      <th>2</th>\n",
       "      <td>AF-202</td>\n",
       "      <td>A</td>\n",
       "      <td>F</td>\n",
       "      <td>24.448276</td>\n",
       "      <td>29</td>\n",
       "      <td>0.827586</td>\n",
       "      <td>0.172414</td>\n",
       "      <td>0.310345</td>\n",
       "      <td>0.068966</td>\n",
       "      <td>0.137931</td>\n",
       "      <td>...</td>\n",
       "      <td>0.357939</td>\n",
       "      <td>0.051586</td>\n",
       "      <td>0.411080</td>\n",
       "      <td>0.310317</td>\n",
       "      <td>0.173424</td>\n",
       "      <td>0.298475</td>\n",
       "      <td>0.397029</td>\n",
       "      <td>58.0</td>\n",
       "      <td>0.481333</td>\n",
       "      <td>1.888249</td>\n",
       "    </tr>\n",
       "    <tr>\n",
       "      <th>3</th>\n",
       "      <td>AF-203</td>\n",
       "      <td>A</td>\n",
       "      <td>F</td>\n",
       "      <td>22.758621</td>\n",
       "      <td>29</td>\n",
       "      <td>1.000000</td>\n",
       "      <td>0.000000</td>\n",
       "      <td>0.758621</td>\n",
       "      <td>0.000000</td>\n",
       "      <td>0.068966</td>\n",
       "      <td>...</td>\n",
       "      <td>0.443200</td>\n",
       "      <td>0.063913</td>\n",
       "      <td>0.354407</td>\n",
       "      <td>0.343793</td>\n",
       "      <td>0.169820</td>\n",
       "      <td>0.272266</td>\n",
       "      <td>0.421089</td>\n",
       "      <td>87.5</td>\n",
       "      <td>0.500231</td>\n",
       "      <td>1.863719</td>\n",
       "    </tr>\n",
       "    <tr>\n",
       "      <th>4</th>\n",
       "      <td>AF-204</td>\n",
       "      <td>A</td>\n",
       "      <td>F</td>\n",
       "      <td>30.137931</td>\n",
       "      <td>29</td>\n",
       "      <td>1.000000</td>\n",
       "      <td>0.000000</td>\n",
       "      <td>0.827586</td>\n",
       "      <td>0.000000</td>\n",
       "      <td>0.068966</td>\n",
       "      <td>...</td>\n",
       "      <td>0.432247</td>\n",
       "      <td>0.053435</td>\n",
       "      <td>0.438931</td>\n",
       "      <td>0.293045</td>\n",
       "      <td>0.180237</td>\n",
       "      <td>0.293893</td>\n",
       "      <td>0.371925</td>\n",
       "      <td>73.5</td>\n",
       "      <td>0.513571</td>\n",
       "      <td>1.935783</td>\n",
       "    </tr>\n",
       "  </tbody>\n",
       "</table>\n",
       "<p>5 rows × 69 columns</p>\n",
       "</div>"
      ],
      "text/plain": [
       "   Target Race Gender        Age  NumberofRaters  Female_prop  Male_prop  \\\n",
       "0  AF-200    A      F  32.571429              28     1.000000   0.000000   \n",
       "1  AF-201    A      F  23.666667              27     1.000000   0.000000   \n",
       "2  AF-202    A      F  24.448276              29     0.827586   0.172414   \n",
       "3  AF-203    A      F  22.758621              29     1.000000   0.000000   \n",
       "4  AF-204    A      F  30.137931              29     1.000000   0.000000   \n",
       "\n",
       "   Asian_prop  Black_prop  Latino_prop  ...  EyeShape   EyeSize  \\\n",
       "0    1.000000    0.000000     0.000000  ...  0.404651  0.060924   \n",
       "1    0.962963    0.000000     0.000000  ...  0.329204  0.041892   \n",
       "2    0.310345    0.068966     0.137931  ...  0.357939  0.051586   \n",
       "3    0.758621    0.000000     0.068966  ...  0.443200  0.063913   \n",
       "4    0.827586    0.000000     0.068966  ...  0.432247  0.053435   \n",
       "\n",
       "   UpperHeadLength  MidfaceLength  ChinLength  ForeheadHeight  \\\n",
       "0         0.414099       0.326797    0.130719        0.264706   \n",
       "1         0.414414       0.329279    0.144595        0.300901   \n",
       "2         0.411080       0.310317    0.173424        0.298475   \n",
       "3         0.354407       0.343793    0.169820        0.272266   \n",
       "4         0.438931       0.293045    0.180237        0.293893   \n",
       "\n",
       "   CheekboneHeight  CheekboneProminence  FaceRoundness      fWHR  \n",
       "0         0.388189                 91.5       0.545752  1.921146  \n",
       "1         0.383784                146.0       0.488288  1.901129  \n",
       "2         0.397029                 58.0       0.481333  1.888249  \n",
       "3         0.421089                 87.5       0.500231  1.863719  \n",
       "4         0.371925                 73.5       0.513571  1.935783  \n",
       "\n",
       "[5 rows x 69 columns]"
      ]
     },
     "execution_count": 4,
     "metadata": {},
     "output_type": "execute_result"
    }
   ],
   "source": [
    "df.head()"
   ]
  },
  {
   "cell_type": "code",
   "execution_count": 5,
   "metadata": {},
   "outputs": [
    {
     "data": {
      "text/plain": [
       "Index(['Target', 'Race', 'Gender', 'Age', 'NumberofRaters', 'Female_prop',\n",
       "       'Male_prop', 'Asian_prop', 'Black_prop', 'Latino_prop', 'Multi_prop',\n",
       "       'Other_prop', 'White_prop', 'Afraid', 'Angry', 'Attractive', 'Babyface',\n",
       "       'Disgusted', 'Dominant', 'Feminine', 'Happy', 'Masculine', 'Prototypic',\n",
       "       'Sad', 'Suitability', 'Surprised', 'Threatening', 'Trustworthy',\n",
       "       'Unusual', 'Luminance_median', 'Nose_Width', 'Nose_Length',\n",
       "       'Lip_Thickness', 'Face_Length', 'R_Eye_H', 'L_Eye_H', 'Avg_Eye_Height',\n",
       "       'R_Eye_W', 'L_Eye_W', 'Avg_Eye_Width', 'Face_Width_Cheeks',\n",
       "       'Face_Width_Mouth', 'Forehead', 'Pupil_Top_R', 'Pupil_Top_L',\n",
       "       'Asymmetry_pupil_top', 'Pupil_Lip_R', 'Pupil_Lip_L',\n",
       "       'Asymmetry_pupil_lip', 'BottomLip_Chin', 'Midcheek_Chin_R',\n",
       "       'Midcheek_Chin_L', 'Cheeks_avg', 'Midbrow_Hairline_R',\n",
       "       'Midbrow_Hairline_L', 'Faceshape', 'Heartshapeness', 'Noseshape',\n",
       "       'LipFullness', 'EyeShape', 'EyeSize', 'UpperHeadLength',\n",
       "       'MidfaceLength', 'ChinLength', 'ForeheadHeight', 'CheekboneHeight',\n",
       "       'CheekboneProminence', 'FaceRoundness', 'fWHR'],\n",
       "      dtype='object')"
      ]
     },
     "execution_count": 5,
     "metadata": {},
     "output_type": "execute_result"
    }
   ],
   "source": [
    "df.columns"
   ]
  },
  {
   "cell_type": "code",
   "execution_count": 6,
   "metadata": {},
   "outputs": [],
   "source": [
    "df_clean = df[['Target', 'Attractive']]"
   ]
  },
  {
   "cell_type": "code",
   "execution_count": 7,
   "metadata": {},
   "outputs": [
    {
     "data": {
      "text/html": [
       "<div>\n",
       "<style scoped>\n",
       "    .dataframe tbody tr th:only-of-type {\n",
       "        vertical-align: middle;\n",
       "    }\n",
       "\n",
       "    .dataframe tbody tr th {\n",
       "        vertical-align: top;\n",
       "    }\n",
       "\n",
       "    .dataframe thead th {\n",
       "        text-align: right;\n",
       "    }\n",
       "</style>\n",
       "<table border=\"1\" class=\"dataframe\">\n",
       "  <thead>\n",
       "    <tr style=\"text-align: right;\">\n",
       "      <th></th>\n",
       "      <th>Target</th>\n",
       "      <th>Attractive</th>\n",
       "    </tr>\n",
       "  </thead>\n",
       "  <tbody>\n",
       "    <tr>\n",
       "      <th>0</th>\n",
       "      <td>AF-200</td>\n",
       "      <td>4.111111</td>\n",
       "    </tr>\n",
       "    <tr>\n",
       "      <th>1</th>\n",
       "      <td>AF-201</td>\n",
       "      <td>3.111111</td>\n",
       "    </tr>\n",
       "    <tr>\n",
       "      <th>2</th>\n",
       "      <td>AF-202</td>\n",
       "      <td>3.000000</td>\n",
       "    </tr>\n",
       "    <tr>\n",
       "      <th>3</th>\n",
       "      <td>AF-203</td>\n",
       "      <td>3.275862</td>\n",
       "    </tr>\n",
       "    <tr>\n",
       "      <th>4</th>\n",
       "      <td>AF-204</td>\n",
       "      <td>3.172414</td>\n",
       "    </tr>\n",
       "    <tr>\n",
       "      <th>5</th>\n",
       "      <td>AF-205</td>\n",
       "      <td>4.333333</td>\n",
       "    </tr>\n",
       "    <tr>\n",
       "      <th>6</th>\n",
       "      <td>AF-206</td>\n",
       "      <td>2.714286</td>\n",
       "    </tr>\n",
       "    <tr>\n",
       "      <th>7</th>\n",
       "      <td>AF-207</td>\n",
       "      <td>2.137931</td>\n",
       "    </tr>\n",
       "    <tr>\n",
       "      <th>8</th>\n",
       "      <td>AF-208</td>\n",
       "      <td>3.038462</td>\n",
       "    </tr>\n",
       "    <tr>\n",
       "      <th>9</th>\n",
       "      <td>AF-209</td>\n",
       "      <td>4.080000</td>\n",
       "    </tr>\n",
       "  </tbody>\n",
       "</table>\n",
       "</div>"
      ],
      "text/plain": [
       "   Target  Attractive\n",
       "0  AF-200    4.111111\n",
       "1  AF-201    3.111111\n",
       "2  AF-202    3.000000\n",
       "3  AF-203    3.275862\n",
       "4  AF-204    3.172414\n",
       "5  AF-205    4.333333\n",
       "6  AF-206    2.714286\n",
       "7  AF-207    2.137931\n",
       "8  AF-208    3.038462\n",
       "9  AF-209    4.080000"
      ]
     },
     "execution_count": 7,
     "metadata": {},
     "output_type": "execute_result"
    }
   ],
   "source": [
    "df_clean.head(10)"
   ]
  },
  {
   "cell_type": "code",
   "execution_count": 8,
   "metadata": {},
   "outputs": [
    {
     "name": "stdout",
     "output_type": "stream",
     "text": [
      "(597, 2)\n"
     ]
    }
   ],
   "source": [
    "print(df_clean.shape)"
   ]
  },
  {
   "cell_type": "code",
   "execution_count": 9,
   "metadata": {},
   "outputs": [],
   "source": [
    "all_images = defaultdict(list)\n",
    "for filename, rating in df_clean.values:\n",
    "    all_images[filename].append(rating)"
   ]
  },
  {
   "cell_type": "code",
   "execution_count": 10,
   "metadata": {},
   "outputs": [],
   "source": [
    "ratings = {}\n",
    "for filename, rating in all_images.items():\n",
    "    ratings[filename] = np.mean(rating)"
   ]
  },
  {
   "cell_type": "code",
   "execution_count": 11,
   "metadata": {},
   "outputs": [
    {
     "name": "stdout",
     "output_type": "stream",
     "text": [
      "597\n"
     ]
    }
   ],
   "source": [
    "value = []\n",
    "path2 = path + 'CFD-Version-2.0.3-Norming-Data/Images/'\n",
    "path3 = path + 'CFD-Version-2.0.3-Norming-Data/Images_resized/'\n",
    "for filename in os.listdir(path2):\n",
    "    img_path = path2 + filename\n",
    "    img = image.load_img(img_path)\n",
    "    img.thumbnail((300,300), Image.ANTIALIAS)\n",
    "    img.save(path3 + filename, \"JPEG\")\n",
    "    value.append(ratings[filename[:6]])\n",
    "print(len(value))"
   ]
  },
  {
   "cell_type": "code",
   "execution_count": 12,
   "metadata": {},
   "outputs": [],
   "source": [
    "images_array = []\n",
    "landmarks = []\n",
    "for filename in os.listdir(path3):\n",
    "    img = imageio.imread(path3 + filename)\n",
    "    landmark = extract_face_landmarks(img)\n",
    "    img = image.img_to_array(img)\n",
    "    images_array.append(img)\n",
    "    landmarks.append(landmark)"
   ]
  },
  {
   "cell_type": "code",
   "execution_count": 13,
   "metadata": {},
   "outputs": [
    {
     "name": "stdout",
     "output_type": "stream",
     "text": [
      "Shape of landmarks: 68x2\n",
      "\n",
      "First 10 landmarks:\n",
      " [[ 98 100]\n",
      " [ 99 113]\n",
      " [102 125]\n",
      " [105 137]\n",
      " [109 150]\n",
      " [117 160]\n",
      " [127 169]\n",
      " [137 176]\n",
      " [151 179]\n",
      " [164 177]]\n"
     ]
    }
   ],
   "source": [
    "print('Shape of landmarks: {}x{}'.format(len(landmarks[0]), len(landmarks[0][0])))\n",
    "print('\\nFirst 10 landmarks:\\n', landmarks[0][:10])"
   ]
  },
  {
   "cell_type": "code",
   "execution_count": 14,
   "metadata": {
    "scrolled": true
   },
   "outputs": [
    {
     "name": "stdout",
     "output_type": "stream",
     "text": [
      "Rating: 4.111111111\n"
     ]
    },
    {
     "data": {
      "image/png": "[encoded data removed]",
      "text/plain": [
       "<Figure size 1080x360 with 3 Axes>"
      ]
     },
     "metadata": {
      "needs_background": "light"
     },
     "output_type": "display_data"
    }
   ],
   "source": [
    "def plot_landmarks(img, landmarks, to_print=False, filename='example_landmarks.png'):\n",
    "    fig = plt.figure(figsize=(15, 5))\n",
    "    ax = fig.add_subplot(1, 3, 1)\n",
    "    ax.imshow(img/255.0)\n",
    "    ax = fig.add_subplot(1, 3, 2)\n",
    "    ax.scatter(landmarks[:, 0], -landmarks[:, 1], alpha=0.8)\n",
    "    ax = fig.add_subplot(1, 3, 3)\n",
    "    img2 = img.copy()\n",
    "    for p in landmarks:\n",
    "        img2[p[1]-3:p[1]+3,p[0]-3:p[0]+3,:] = (255, 255, 255)\n",
    "    ax.imshow(img2/255.0)\n",
    "    if to_print: \n",
    "        fig.savefig('../images/' + filename)\n",
    "    plt.show()\n",
    "    \n",
    "print('Rating: {}'.format(value[16]))\n",
    "plot_landmarks(images_array[16], landmarks[16], to_print=True)"
   ]
  },
  {
   "cell_type": "code",
   "execution_count": 15,
   "metadata": {},
   "outputs": [],
   "source": [
    "data_zipped = list(zip(images_array, value, landmarks))"
   ]
  },
  {
   "cell_type": "code",
   "execution_count": 16,
   "metadata": {},
   "outputs": [
    {
     "data": {
      "text/html": [
       "<div>\n",
       "<style scoped>\n",
       "    .dataframe tbody tr th:only-of-type {\n",
       "        vertical-align: middle;\n",
       "    }\n",
       "\n",
       "    .dataframe tbody tr th {\n",
       "        vertical-align: top;\n",
       "    }\n",
       "\n",
       "    .dataframe thead th {\n",
       "        text-align: right;\n",
       "    }\n",
       "</style>\n",
       "<table border=\"1\" class=\"dataframe\">\n",
       "  <thead>\n",
       "    <tr style=\"text-align: right;\">\n",
       "      <th></th>\n",
       "      <th>Images</th>\n",
       "      <th>Rating</th>\n",
       "      <th>Landmarks</th>\n",
       "    </tr>\n",
       "  </thead>\n",
       "  <tbody>\n",
       "    <tr>\n",
       "      <th>0</th>\n",
       "      <td>[[[255.0, 255.0, 255.0], [255.0, 255.0, 255.0]...</td>\n",
       "      <td>3.821429</td>\n",
       "      <td>[[98, 100], [99, 113], [102, 125], [105, 137],...</td>\n",
       "    </tr>\n",
       "    <tr>\n",
       "      <th>1</th>\n",
       "      <td>[[[255.0, 255.0, 255.0], [255.0, 255.0, 255.0]...</td>\n",
       "      <td>2.777778</td>\n",
       "      <td>[[96, 98], [98, 111], [100, 125], [102, 138], ...</td>\n",
       "    </tr>\n",
       "    <tr>\n",
       "      <th>2</th>\n",
       "      <td>[[[255.0, 255.0, 255.0], [255.0, 255.0, 255.0]...</td>\n",
       "      <td>3.280000</td>\n",
       "      <td>[[103, 94], [103, 107], [105, 120], [108, 132]...</td>\n",
       "    </tr>\n",
       "    <tr>\n",
       "      <th>3</th>\n",
       "      <td>[[[255.0, 255.0, 255.0], [255.0, 255.0, 255.0]...</td>\n",
       "      <td>3.857143</td>\n",
       "      <td>[[98, 96], [100, 110], [102, 124], [105, 137],...</td>\n",
       "    </tr>\n",
       "    <tr>\n",
       "      <th>4</th>\n",
       "      <td>[[[255.0, 255.0, 255.0], [255.0, 255.0, 255.0]...</td>\n",
       "      <td>3.000000</td>\n",
       "      <td>[[99, 100], [100, 112], [102, 123], [104, 135]...</td>\n",
       "    </tr>\n",
       "  </tbody>\n",
       "</table>\n",
       "</div>"
      ],
      "text/plain": [
       "                                              Images    Rating  \\\n",
       "0  [[[255.0, 255.0, 255.0], [255.0, 255.0, 255.0]...  3.821429   \n",
       "1  [[[255.0, 255.0, 255.0], [255.0, 255.0, 255.0]...  2.777778   \n",
       "2  [[[255.0, 255.0, 255.0], [255.0, 255.0, 255.0]...  3.280000   \n",
       "3  [[[255.0, 255.0, 255.0], [255.0, 255.0, 255.0]...  3.857143   \n",
       "4  [[[255.0, 255.0, 255.0], [255.0, 255.0, 255.0]...  3.000000   \n",
       "\n",
       "                                           Landmarks  \n",
       "0  [[98, 100], [99, 113], [102, 125], [105, 137],...  \n",
       "1  [[96, 98], [98, 111], [100, 125], [102, 138], ...  \n",
       "2  [[103, 94], [103, 107], [105, 120], [108, 132]...  \n",
       "3  [[98, 96], [100, 110], [102, 124], [105, 137],...  \n",
       "4  [[99, 100], [100, 112], [102, 123], [104, 135]...  "
      ]
     },
     "execution_count": 16,
     "metadata": {},
     "output_type": "execute_result"
    }
   ],
   "source": [
    "data = pd.DataFrame(data_zipped, columns=['Images','Rating', 'Landmarks'])\n",
    "data.head()"
   ]
  },
  {
   "cell_type": "code",
   "execution_count": 17,
   "metadata": {},
   "outputs": [],
   "source": [
    "data.to_csv('../input/data_cleaned.csv')"
   ]
  },
  {
   "cell_type": "code",
   "execution_count": null,
   "metadata": {},
   "outputs": [],
   "source": []
  }
 ],
 "metadata": {
  "kernelspec": {
   "display_name": "Python 3",
   "language": "python",
   "name": "python3"
  },
  "language_info": {
   "codemirror_mode": {
    "name": "ipython",
    "version": 3
   },
   "file_extension": ".py",
   "mimetype": "text/x-python",
   "name": "python",
   "nbconvert_exporter": "python",
   "pygments_lexer": "ipython3",
   "version": "3.6.7"
  }
 },
 "nbformat": 4,
 "nbformat_minor": 2
}
