{
 "cells": [
  {
   "cell_type": "code",
   "execution_count": 1,
   "metadata": {},
   "outputs": [
    {
     "name": "stderr",
     "output_type": "stream",
     "text": [
      "Using TensorFlow backend.\n"
     ]
    }
   ],
   "source": [
    "import os\n",
    "import pandas as pd\n",
    "import numpy as np\n",
    "    # Librerías para el procesado de imagen\n",
    "%matplotlib inline\n",
    "import matplotlib.pyplot as plt\n",
    "from keras.preprocessing import image\n",
    "from collections import defaultdict\n",
    "from PIL import Image\n",
    "import imageio\n",
    "from mlxtend.image import extract_face_landmarks\n",
    "import itertools\n",
    "    # Librerías para ML\n",
    "from sklearn.model_selection import train_test_split\n",
    "import keras\n",
    "from keras.datasets import mnist\n",
    "from keras.models import Sequential\n",
    "from keras.layers import Dense, Dropout, Flatten\n",
    "from keras.layers import Conv2D, MaxPooling2D\n",
    "from keras import backend as K"
   ]
  },
  {
   "cell_type": "code",
   "execution_count": 2,
   "metadata": {},
   "outputs": [],
   "source": [
    "path = '../input/'"
   ]
  },
  {
   "cell_type": "code",
   "execution_count": 3,
   "metadata": {},
   "outputs": [],
   "source": [
    "df = pd.read_excel(path + 'CFD_2.0.3_Norming_Data_and_Codebook.xlsx', sheet_name='CFD 2.0.3 Norming Data')"
   ]
  },
  {
   "cell_type": "code",
   "execution_count": 4,
   "metadata": {},
   "outputs": [
    {
     "data": {
      "text/html": [
       "<div>\n",
       "<style scoped>\n",
       "    .dataframe tbody tr th:only-of-type {\n",
       "        vertical-align: middle;\n",
       "    }\n",
       "\n",
       "    .dataframe tbody tr th {\n",
       "        vertical-align: top;\n",
       "    }\n",
       "\n",
       "    .dataframe thead th {\n",
       "        text-align: right;\n",
       "    }\n",
       "</style>\n",
       "<table border=\"1\" class=\"dataframe\">\n",
       "  <thead>\n",
       "    <tr style=\"text-align: right;\">\n",
       "      <th></th>\n",
       "      <th>Target</th>\n",
       "      <th>Race</th>\n",
       "      <th>Gender</th>\n",
       "      <th>Age</th>\n",
       "      <th>NumberofRaters</th>\n",
       "      <th>Female_prop</th>\n",
       "      <th>Male_prop</th>\n",
       "      <th>Asian_prop</th>\n",
       "      <th>Black_prop</th>\n",
       "      <th>Latino_prop</th>\n",
       "      <th>...</th>\n",
       "      <th>EyeShape</th>\n",
       "      <th>EyeSize</th>\n",
       "      <th>UpperHeadLength</th>\n",
       "      <th>MidfaceLength</th>\n",
       "      <th>ChinLength</th>\n",
       "      <th>ForeheadHeight</th>\n",
       "      <th>CheekboneHeight</th>\n",
       "      <th>CheekboneProminence</th>\n",
       "      <th>FaceRoundness</th>\n",
       "      <th>fWHR</th>\n",
       "    </tr>\n",
       "  </thead>\n",
       "  <tbody>\n",
       "    <tr>\n",
       "      <th>0</th>\n",
       "      <td>AF-200</td>\n",
       "      <td>A</td>\n",
       "      <td>F</td>\n",
       "      <td>32.571429</td>\n",
       "      <td>28</td>\n",
       "      <td>1.000000</td>\n",
       "      <td>0.000000</td>\n",
       "      <td>1.000000</td>\n",
       "      <td>0.000000</td>\n",
       "      <td>0.000000</td>\n",
       "      <td>...</td>\n",
       "      <td>0.404651</td>\n",
       "      <td>0.060924</td>\n",
       "      <td>0.414099</td>\n",
       "      <td>0.326797</td>\n",
       "      <td>0.130719</td>\n",
       "      <td>0.264706</td>\n",
       "      <td>0.388189</td>\n",
       "      <td>91.5</td>\n",
       "      <td>0.545752</td>\n",
       "      <td>1.921146</td>\n",
       "    </tr>\n",
       "    <tr>\n",
       "      <th>1</th>\n",
       "      <td>AF-201</td>\n",
       "      <td>A</td>\n",
       "      <td>F</td>\n",
       "      <td>23.666667</td>\n",
       "      <td>27</td>\n",
       "      <td>1.000000</td>\n",
       "      <td>0.000000</td>\n",
       "      <td>0.962963</td>\n",
       "      <td>0.000000</td>\n",
       "      <td>0.000000</td>\n",
       "      <td>...</td>\n",
       "      <td>0.329204</td>\n",
       "      <td>0.041892</td>\n",
       "      <td>0.414414</td>\n",
       "      <td>0.329279</td>\n",
       "      <td>0.144595</td>\n",
       "      <td>0.300901</td>\n",
       "      <td>0.383784</td>\n",
       "      <td>146.0</td>\n",
       "      <td>0.488288</td>\n",
       "      <td>1.901129</td>\n",
       "    </tr>\n",
       "    <tr>\n",
       "      <th>2</th>\n",
       "      <td>AF-202</td>\n",
       "      <td>A</td>\n",
       "      <td>F</td>\n",
       "      <td>24.448276</td>\n",
       "      <td>29</td>\n",
       "      <td>0.827586</td>\n",
       "      <td>0.172414</td>\n",
       "      <td>0.310345</td>\n",
       "      <td>0.068966</td>\n",
       "      <td>0.137931</td>\n",
       "      <td>...</td>\n",
       "      <td>0.357939</td>\n",
       "      <td>0.051586</td>\n",
       "      <td>0.411080</td>\n",
       "      <td>0.310317</td>\n",
       "      <td>0.173424</td>\n",
       "      <td>0.298475</td>\n",
       "      <td>0.397029</td>\n",
       "      <td>58.0</td>\n",
       "      <td>0.481333</td>\n",
       "      <td>1.888249</td>\n",
       "    </tr>\n",
       "    <tr>\n",
       "      <th>3</th>\n",
       "      <td>AF-203</td>\n",
       "      <td>A</td>\n",
       "      <td>F</td>\n",
       "      <td>22.758621</td>\n",
       "      <td>29</td>\n",
       "      <td>1.000000</td>\n",
       "      <td>0.000000</td>\n",
       "      <td>0.758621</td>\n",
       "      <td>0.000000</td>\n",
       "      <td>0.068966</td>\n",
       "      <td>...</td>\n",
       "      <td>0.443200</td>\n",
       "      <td>0.063913</td>\n",
       "      <td>0.354407</td>\n",
       "      <td>0.343793</td>\n",
       "      <td>0.169820</td>\n",
       "      <td>0.272266</td>\n",
       "      <td>0.421089</td>\n",
       "      <td>87.5</td>\n",
       "      <td>0.500231</td>\n",
       "      <td>1.863719</td>\n",
       "    </tr>\n",
       "    <tr>\n",
       "      <th>4</th>\n",
       "      <td>AF-204</td>\n",
       "      <td>A</td>\n",
       "      <td>F</td>\n",
       "      <td>30.137931</td>\n",
       "      <td>29</td>\n",
       "      <td>1.000000</td>\n",
       "      <td>0.000000</td>\n",
       "      <td>0.827586</td>\n",
       "      <td>0.000000</td>\n",
       "      <td>0.068966</td>\n",
       "      <td>...</td>\n",
       "      <td>0.432247</td>\n",
       "      <td>0.053435</td>\n",
       "      <td>0.438931</td>\n",
       "      <td>0.293045</td>\n",
       "      <td>0.180237</td>\n",
       "      <td>0.293893</td>\n",
       "      <td>0.371925</td>\n",
       "      <td>73.5</td>\n",
       "      <td>0.513571</td>\n",
       "      <td>1.935783</td>\n",
       "    </tr>\n",
       "  </tbody>\n",
       "</table>\n",
       "<p>5 rows × 69 columns</p>\n",
       "</div>"
      ],
      "text/plain": [
       "   Target Race Gender        Age  NumberofRaters  Female_prop  Male_prop  \\\n",
       "0  AF-200    A      F  32.571429              28     1.000000   0.000000   \n",
       "1  AF-201    A      F  23.666667              27     1.000000   0.000000   \n",
       "2  AF-202    A      F  24.448276              29     0.827586   0.172414   \n",
       "3  AF-203    A      F  22.758621              29     1.000000   0.000000   \n",
       "4  AF-204    A      F  30.137931              29     1.000000   0.000000   \n",
       "\n",
       "   Asian_prop  Black_prop  Latino_prop  ...  EyeShape   EyeSize  \\\n",
       "0    1.000000    0.000000     0.000000  ...  0.404651  0.060924   \n",
       "1    0.962963    0.000000     0.000000  ...  0.329204  0.041892   \n",
       "2    0.310345    0.068966     0.137931  ...  0.357939  0.051586   \n",
       "3    0.758621    0.000000     0.068966  ...  0.443200  0.063913   \n",
       "4    0.827586    0.000000     0.068966  ...  0.432247  0.053435   \n",
       "\n",
       "   UpperHeadLength  MidfaceLength  ChinLength  ForeheadHeight  \\\n",
       "0         0.414099       0.326797    0.130719        0.264706   \n",
       "1         0.414414       0.329279    0.144595        0.300901   \n",
       "2         0.411080       0.310317    0.173424        0.298475   \n",
       "3         0.354407       0.343793    0.169820        0.272266   \n",
       "4         0.438931       0.293045    0.180237        0.293893   \n",
       "\n",
       "   CheekboneHeight  CheekboneProminence  FaceRoundness      fWHR  \n",
       "0         0.388189                 91.5       0.545752  1.921146  \n",
       "1         0.383784                146.0       0.488288  1.901129  \n",
       "2         0.397029                 58.0       0.481333  1.888249  \n",
       "3         0.421089                 87.5       0.500231  1.863719  \n",
       "4         0.371925                 73.5       0.513571  1.935783  \n",
       "\n",
       "[5 rows x 69 columns]"
      ]
     },
     "execution_count": 4,
     "metadata": {},
     "output_type": "execute_result"
    }
   ],
   "source": [
    "df.head()"
   ]
  },
  {
   "cell_type": "code",
   "execution_count": 5,
   "metadata": {},
   "outputs": [
    {
     "data": {
      "text/html": [
       "<div>\n",
       "<style scoped>\n",
       "    .dataframe tbody tr th:only-of-type {\n",
       "        vertical-align: middle;\n",
       "    }\n",
       "\n",
       "    .dataframe tbody tr th {\n",
       "        vertical-align: top;\n",
       "    }\n",
       "\n",
       "    .dataframe thead th {\n",
       "        text-align: right;\n",
       "    }\n",
       "</style>\n",
       "<table border=\"1\" class=\"dataframe\">\n",
       "  <thead>\n",
       "    <tr style=\"text-align: right;\">\n",
       "      <th></th>\n",
       "      <th>Target</th>\n",
       "      <th>Attractive</th>\n",
       "    </tr>\n",
       "  </thead>\n",
       "  <tbody>\n",
       "    <tr>\n",
       "      <th>0</th>\n",
       "      <td>AF-200</td>\n",
       "      <td>4.111111</td>\n",
       "    </tr>\n",
       "    <tr>\n",
       "      <th>1</th>\n",
       "      <td>AF-201</td>\n",
       "      <td>3.111111</td>\n",
       "    </tr>\n",
       "    <tr>\n",
       "      <th>2</th>\n",
       "      <td>AF-202</td>\n",
       "      <td>3.000000</td>\n",
       "    </tr>\n",
       "    <tr>\n",
       "      <th>3</th>\n",
       "      <td>AF-203</td>\n",
       "      <td>3.275862</td>\n",
       "    </tr>\n",
       "    <tr>\n",
       "      <th>4</th>\n",
       "      <td>AF-204</td>\n",
       "      <td>3.172414</td>\n",
       "    </tr>\n",
       "  </tbody>\n",
       "</table>\n",
       "</div>"
      ],
      "text/plain": [
       "   Target  Attractive\n",
       "0  AF-200    4.111111\n",
       "1  AF-201    3.111111\n",
       "2  AF-202    3.000000\n",
       "3  AF-203    3.275862\n",
       "4  AF-204    3.172414"
      ]
     },
     "execution_count": 5,
     "metadata": {},
     "output_type": "execute_result"
    }
   ],
   "source": [
    "df_clean = df[['Target', 'Attractive']]\n",
    "df_clean.head()"
   ]
  },
  {
   "cell_type": "code",
   "execution_count": 6,
   "metadata": {},
   "outputs": [
    {
     "name": "stdout",
     "output_type": "stream",
     "text": [
      "(597, 2)\n"
     ]
    }
   ],
   "source": [
    "print(df_clean.shape)"
   ]
  },
  {
   "cell_type": "code",
   "execution_count": 7,
   "metadata": {},
   "outputs": [],
   "source": [
    "for index, row in df.iterrows():\n",
    "    if row['Target']=='BM':\n",
    "        df.drop(index, inplace=True)"
   ]
  },
  {
   "cell_type": "code",
   "execution_count": 8,
   "metadata": {},
   "outputs": [],
   "source": [
    "all_images = defaultdict(list)\n",
    "for filename, rating in df_clean.values:\n",
    "    all_images[filename].append(rating)"
   ]
  },
  {
   "cell_type": "code",
   "execution_count": 9,
   "metadata": {},
   "outputs": [],
   "source": [
    "ratings = {}\n",
    "for filename, rating in all_images.items():\n",
    "    ratings[filename] = np.mean(rating)"
   ]
  },
  {
   "cell_type": "code",
   "execution_count": 10,
   "metadata": {},
   "outputs": [
    {
     "name": "stdout",
     "output_type": "stream",
     "text": [
      "597\n"
     ]
    }
   ],
   "source": [
    "value = []\n",
    "path2 = path + 'CFD-Version-2.0.3-Norming-Data/Images/'\n",
    "path3 = path + 'CFD-Version-2.0.3-Norming-Data/Images_resized/'\n",
    "for filename in os.listdir(path2):\n",
    "    img_path = path2 + filename\n",
    "    img = image.load_img(img_path).convert('L')\n",
    "    img.thumbnail((200,200), Image.ANTIALIAS)\n",
    "    img.save(path3 + filename, \"JPEG\")\n",
    "    value.append(ratings[filename[:6]])\n",
    "print(len(value))"
   ]
  },
  {
   "cell_type": "code",
   "execution_count": 11,
   "metadata": {},
   "outputs": [],
   "source": [
    "images_array = []\n",
    "landmarks = []\n",
    "for filename in os.listdir(path3):\n",
    "    img = imageio.imread(path3 + filename)\n",
    "    landmark = extract_face_landmarks(img)\n",
    "    images_array.append(img)\n",
    "    landmarks.append(landmark)"
   ]
  },
  {
   "cell_type": "code",
   "execution_count": 12,
   "metadata": {},
   "outputs": [
    {
     "name": "stdout",
     "output_type": "stream",
     "text": [
      "<class 'list'>\n",
      "597 140 200\n"
     ]
    }
   ],
   "source": [
    "print(type(images_array))\n",
    "print(len(images_array), len(images_array[0]), len(images_array[0][0]))"
   ]
  },
  {
   "cell_type": "code",
   "execution_count": 13,
   "metadata": {},
   "outputs": [
    {
     "name": "stdout",
     "output_type": "stream",
     "text": [
      "<class 'numpy.ndarray'> <class 'numpy.ndarray'>\n",
      "597 (140, 200) (597, 68, 2)\n",
      "\n",
      "First 10 landmarks:\n",
      " [[ 65  66]\n",
      " [ 66  75]\n",
      " [ 68  83]\n",
      " [ 70  91]\n",
      " [ 72  99]\n",
      " [ 77 107]\n",
      " [ 84 112]\n",
      " [ 91 118]\n",
      " [100 119]\n",
      " [109 118]]\n"
     ]
    }
   ],
   "source": [
    "images_array = np.array(images_array)\n",
    "landmarks = np.array(landmarks)\n",
    "print(type(images_array),type(landmarks))\n",
    "print(len(images_array), images_array[0].shape, landmarks.shape)\n",
    "print('\\nFirst 10 landmarks:\\n', landmarks[0][:10])"
   ]
  },
  {
   "cell_type": "code",
   "execution_count": 14,
   "metadata": {
    "scrolled": true
   },
   "outputs": [
    {
     "name": "stdout",
     "output_type": "stream",
     "text": [
      "Rating: 4.111111111\n"
     ]
    },
    {
     "data": {
      "image/png": "[encoded data removed]",
      "text/plain": [
       "<Figure size 1512x504 with 3 Axes>"
      ]
     },
     "metadata": {
      "needs_background": "light"
     },
     "output_type": "display_data"
    }
   ],
   "source": [
    "def plot_landmarks(img, landmarks, to_print=False, filename='example_landmarks.png'):\n",
    "    fig = plt.figure(figsize=(21, 7))\n",
    "    ax = fig.add_subplot(1, 3, 1)\n",
    "    #img = np.reshape(img, (147,210))\n",
    "    ax.imshow(img, cmap='gray')\n",
    "    ax = fig.add_subplot(1, 3, 2)\n",
    "    ax.scatter(landmarks[:, 0], -landmarks[:, 1], c='deeppink', alpha=0.8)\n",
    "    ax = fig.add_subplot(1, 3, 3)\n",
    "    img2 = img.copy()\n",
    "    ax.imshow(img2, cmap='gray')\n",
    "    ax.scatter(landmarks[:, 0], landmarks[:, 1], c='deeppink', alpha=0.8)\n",
    "    if to_print: \n",
    "        fig.savefig('../images/' + filename)\n",
    "    plt.show()\n",
    "    \n",
    "print('Rating: {}'.format(value[16]))\n",
    "plot_landmarks(images_array[16], landmarks[16], to_print=True)"
   ]
  },
  {
   "cell_type": "code",
   "execution_count": 15,
   "metadata": {},
   "outputs": [],
   "source": [
    "total_land = 68*2\n",
    "landmarks_ = landmarks.reshape(597,total_land)"
   ]
  },
  {
   "cell_type": "code",
   "execution_count": 16,
   "metadata": {},
   "outputs": [
    {
     "data": {
      "text/html": [
       "<div>\n",
       "<style scoped>\n",
       "    .dataframe tbody tr th:only-of-type {\n",
       "        vertical-align: middle;\n",
       "    }\n",
       "\n",
       "    .dataframe tbody tr th {\n",
       "        vertical-align: top;\n",
       "    }\n",
       "\n",
       "    .dataframe thead th {\n",
       "        text-align: right;\n",
       "    }\n",
       "</style>\n",
       "<table border=\"1\" class=\"dataframe\">\n",
       "  <thead>\n",
       "    <tr style=\"text-align: right;\">\n",
       "      <th></th>\n",
       "      <th>Images</th>\n",
       "      <th>Rating</th>\n",
       "      <th>Landmarks</th>\n",
       "    </tr>\n",
       "  </thead>\n",
       "  <tbody>\n",
       "    <tr>\n",
       "      <th>0</th>\n",
       "      <td>[[255, 255, 255, 255, 255, 255, 255, 255, 255,...</td>\n",
       "      <td>3.821429</td>\n",
       "      <td>[65, 66, 66, 75, 68, 83, 70, 91, 72, 99, 77, 1...</td>\n",
       "    </tr>\n",
       "    <tr>\n",
       "      <th>1</th>\n",
       "      <td>[[255, 255, 255, 255, 255, 255, 255, 255, 255,...</td>\n",
       "      <td>2.777778</td>\n",
       "      <td>[64, 66, 65, 75, 66, 84, 68, 92, 71, 101, 75, ...</td>\n",
       "    </tr>\n",
       "    <tr>\n",
       "      <th>2</th>\n",
       "      <td>[[255, 255, 255, 255, 255, 255, 255, 255, 255,...</td>\n",
       "      <td>3.280000</td>\n",
       "      <td>[69, 64, 69, 73, 71, 81, 73, 89, 75, 97, 79, 1...</td>\n",
       "    </tr>\n",
       "    <tr>\n",
       "      <th>3</th>\n",
       "      <td>[[255, 255, 255, 255, 255, 255, 255, 255, 255,...</td>\n",
       "      <td>3.857143</td>\n",
       "      <td>[66, 65, 67, 74, 68, 83, 70, 91, 73, 100, 78, ...</td>\n",
       "    </tr>\n",
       "    <tr>\n",
       "      <th>4</th>\n",
       "      <td>[[255, 255, 255, 255, 255, 255, 255, 255, 255,...</td>\n",
       "      <td>3.000000</td>\n",
       "      <td>[66, 66, 67, 74, 68, 82, 70, 90, 72, 97, 77, 1...</td>\n",
       "    </tr>\n",
       "  </tbody>\n",
       "</table>\n",
       "</div>"
      ],
      "text/plain": [
       "                                              Images    Rating  \\\n",
       "0  [[255, 255, 255, 255, 255, 255, 255, 255, 255,...  3.821429   \n",
       "1  [[255, 255, 255, 255, 255, 255, 255, 255, 255,...  2.777778   \n",
       "2  [[255, 255, 255, 255, 255, 255, 255, 255, 255,...  3.280000   \n",
       "3  [[255, 255, 255, 255, 255, 255, 255, 255, 255,...  3.857143   \n",
       "4  [[255, 255, 255, 255, 255, 255, 255, 255, 255,...  3.000000   \n",
       "\n",
       "                                           Landmarks  \n",
       "0  [65, 66, 66, 75, 68, 83, 70, 91, 72, 99, 77, 1...  \n",
       "1  [64, 66, 65, 75, 66, 84, 68, 92, 71, 101, 75, ...  \n",
       "2  [69, 64, 69, 73, 71, 81, 73, 89, 75, 97, 79, 1...  \n",
       "3  [66, 65, 67, 74, 68, 83, 70, 91, 73, 100, 78, ...  \n",
       "4  [66, 66, 67, 74, 68, 82, 70, 90, 72, 97, 77, 1...  "
      ]
     },
     "execution_count": 16,
     "metadata": {},
     "output_type": "execute_result"
    }
   ],
   "source": [
    "data_zipped = list(zip(images_array, value, landmarks_))\n",
    "data = pd.DataFrame(data_zipped, columns=['Images','Rating', 'Landmarks'])\n",
    "data.head()"
   ]
  },
  {
   "cell_type": "code",
   "execution_count": 17,
   "metadata": {},
   "outputs": [
    {
     "data": {
      "text/html": [
       "<div>\n",
       "<style scoped>\n",
       "    .dataframe tbody tr th:only-of-type {\n",
       "        vertical-align: middle;\n",
       "    }\n",
       "\n",
       "    .dataframe tbody tr th {\n",
       "        vertical-align: top;\n",
       "    }\n",
       "\n",
       "    .dataframe thead th {\n",
       "        text-align: right;\n",
       "    }\n",
       "</style>\n",
       "<table border=\"1\" class=\"dataframe\">\n",
       "  <thead>\n",
       "    <tr style=\"text-align: right;\">\n",
       "      <th></th>\n",
       "      <th>x_0</th>\n",
       "      <th>y_0</th>\n",
       "      <th>x_2</th>\n",
       "      <th>y_2</th>\n",
       "      <th>x_4</th>\n",
       "      <th>y_4</th>\n",
       "      <th>x_6</th>\n",
       "      <th>y_6</th>\n",
       "      <th>x_8</th>\n",
       "      <th>y_8</th>\n",
       "      <th>...</th>\n",
       "      <th>x_126</th>\n",
       "      <th>y_126</th>\n",
       "      <th>x_128</th>\n",
       "      <th>y_128</th>\n",
       "      <th>x_130</th>\n",
       "      <th>y_130</th>\n",
       "      <th>x_132</th>\n",
       "      <th>y_132</th>\n",
       "      <th>x_134</th>\n",
       "      <th>y_134</th>\n",
       "    </tr>\n",
       "  </thead>\n",
       "  <tbody>\n",
       "    <tr>\n",
       "      <th>0</th>\n",
       "      <td>65</td>\n",
       "      <td>66</td>\n",
       "      <td>66</td>\n",
       "      <td>75</td>\n",
       "      <td>68</td>\n",
       "      <td>83</td>\n",
       "      <td>70</td>\n",
       "      <td>91</td>\n",
       "      <td>72</td>\n",
       "      <td>99</td>\n",
       "      <td>...</td>\n",
       "      <td>103</td>\n",
       "      <td>96</td>\n",
       "      <td>110</td>\n",
       "      <td>97</td>\n",
       "      <td>103</td>\n",
       "      <td>96</td>\n",
       "      <td>100</td>\n",
       "      <td>97</td>\n",
       "      <td>96</td>\n",
       "      <td>96</td>\n",
       "    </tr>\n",
       "    <tr>\n",
       "      <th>1</th>\n",
       "      <td>64</td>\n",
       "      <td>66</td>\n",
       "      <td>65</td>\n",
       "      <td>75</td>\n",
       "      <td>66</td>\n",
       "      <td>84</td>\n",
       "      <td>68</td>\n",
       "      <td>92</td>\n",
       "      <td>71</td>\n",
       "      <td>101</td>\n",
       "      <td>...</td>\n",
       "      <td>103</td>\n",
       "      <td>95</td>\n",
       "      <td>110</td>\n",
       "      <td>96</td>\n",
       "      <td>103</td>\n",
       "      <td>95</td>\n",
       "      <td>99</td>\n",
       "      <td>95</td>\n",
       "      <td>96</td>\n",
       "      <td>95</td>\n",
       "    </tr>\n",
       "    <tr>\n",
       "      <th>2</th>\n",
       "      <td>69</td>\n",
       "      <td>64</td>\n",
       "      <td>69</td>\n",
       "      <td>73</td>\n",
       "      <td>71</td>\n",
       "      <td>81</td>\n",
       "      <td>73</td>\n",
       "      <td>89</td>\n",
       "      <td>75</td>\n",
       "      <td>97</td>\n",
       "      <td>...</td>\n",
       "      <td>104</td>\n",
       "      <td>97</td>\n",
       "      <td>113</td>\n",
       "      <td>96</td>\n",
       "      <td>104</td>\n",
       "      <td>96</td>\n",
       "      <td>100</td>\n",
       "      <td>97</td>\n",
       "      <td>96</td>\n",
       "      <td>96</td>\n",
       "    </tr>\n",
       "    <tr>\n",
       "      <th>3</th>\n",
       "      <td>66</td>\n",
       "      <td>65</td>\n",
       "      <td>67</td>\n",
       "      <td>74</td>\n",
       "      <td>68</td>\n",
       "      <td>83</td>\n",
       "      <td>70</td>\n",
       "      <td>91</td>\n",
       "      <td>73</td>\n",
       "      <td>100</td>\n",
       "      <td>...</td>\n",
       "      <td>104</td>\n",
       "      <td>95</td>\n",
       "      <td>111</td>\n",
       "      <td>95</td>\n",
       "      <td>104</td>\n",
       "      <td>95</td>\n",
       "      <td>102</td>\n",
       "      <td>95</td>\n",
       "      <td>99</td>\n",
       "      <td>95</td>\n",
       "    </tr>\n",
       "    <tr>\n",
       "      <th>4</th>\n",
       "      <td>66</td>\n",
       "      <td>66</td>\n",
       "      <td>67</td>\n",
       "      <td>74</td>\n",
       "      <td>68</td>\n",
       "      <td>82</td>\n",
       "      <td>70</td>\n",
       "      <td>90</td>\n",
       "      <td>72</td>\n",
       "      <td>97</td>\n",
       "      <td>...</td>\n",
       "      <td>104</td>\n",
       "      <td>92</td>\n",
       "      <td>110</td>\n",
       "      <td>93</td>\n",
       "      <td>104</td>\n",
       "      <td>92</td>\n",
       "      <td>101</td>\n",
       "      <td>93</td>\n",
       "      <td>98</td>\n",
       "      <td>92</td>\n",
       "    </tr>\n",
       "  </tbody>\n",
       "</table>\n",
       "<p>5 rows × 136 columns</p>\n",
       "</div>"
      ],
      "text/plain": [
       "   x_0  y_0  x_2  y_2  x_4  y_4  x_6  y_6  x_8  y_8  ...  x_126  y_126  x_128  \\\n",
       "0   65   66   66   75   68   83   70   91   72   99  ...    103     96    110   \n",
       "1   64   66   65   75   66   84   68   92   71  101  ...    103     95    110   \n",
       "2   69   64   69   73   71   81   73   89   75   97  ...    104     97    113   \n",
       "3   66   65   67   74   68   83   70   91   73  100  ...    104     95    111   \n",
       "4   66   66   67   74   68   82   70   90   72   97  ...    104     92    110   \n",
       "\n",
       "   y_128  x_130  y_130  x_132  y_132  x_134  y_134  \n",
       "0     97    103     96    100     97     96     96  \n",
       "1     96    103     95     99     95     96     95  \n",
       "2     96    104     96    100     97     96     96  \n",
       "3     95    104     95    102     95     99     95  \n",
       "4     93    104     92    101     93     98     92  \n",
       "\n",
       "[5 rows x 136 columns]"
      ]
     },
     "execution_count": 17,
     "metadata": {},
     "output_type": "execute_result"
    }
   ],
   "source": [
    "df_landmarks = data['Landmarks']\n",
    "df_landmarks = pd.concat([df_landmarks.apply(pd.Series), df_landmarks], axis=1).drop(['Landmarks'], axis=1)\n",
    "df_landmarks.columns = [\"x_%d\"%i if i%2==0 or i==0 else \"y_%d\"%(i-1) for i in range(136)]\n",
    "df_landmarks.head()"
   ]
  },
  {
   "cell_type": "code",
   "execution_count": 18,
   "metadata": {},
   "outputs": [],
   "source": [
    "score = data['Rating']\n",
    "def create_bins(data):\n",
    "    bins = (0, 1, 2, 3, 4, 5, 6)\n",
    "    labels = (0, 1, 2, 3, 4, 5)\n",
    "    groups = pd.cut(score, bins=bins, labels=labels)\n",
    "    return groups"
   ]
  },
  {
   "cell_type": "code",
   "execution_count": 19,
   "metadata": {},
   "outputs": [],
   "source": [
    "data['Ratings'] = create_bins(data)\n",
    "data = data.drop(['Rating', 'Landmarks'], axis=1)"
   ]
  },
  {
   "cell_type": "code",
   "execution_count": 20,
   "metadata": {},
   "outputs": [
    {
     "name": "stdout",
     "output_type": "stream",
     "text": [
      "597\n"
     ]
    },
    {
     "data": {
      "text/html": [
       "<div>\n",
       "<style scoped>\n",
       "    .dataframe tbody tr th:only-of-type {\n",
       "        vertical-align: middle;\n",
       "    }\n",
       "\n",
       "    .dataframe tbody tr th {\n",
       "        vertical-align: top;\n",
       "    }\n",
       "\n",
       "    .dataframe thead th {\n",
       "        text-align: right;\n",
       "    }\n",
       "</style>\n",
       "<table border=\"1\" class=\"dataframe\">\n",
       "  <thead>\n",
       "    <tr style=\"text-align: right;\">\n",
       "      <th></th>\n",
       "      <th>Images</th>\n",
       "      <th>Ratings</th>\n",
       "    </tr>\n",
       "  </thead>\n",
       "  <tbody>\n",
       "    <tr>\n",
       "      <th>0</th>\n",
       "      <td>[[255, 255, 255, 255, 255, 255, 255, 255, 255,...</td>\n",
       "      <td>3</td>\n",
       "    </tr>\n",
       "    <tr>\n",
       "      <th>1</th>\n",
       "      <td>[[255, 255, 255, 255, 255, 255, 255, 255, 255,...</td>\n",
       "      <td>2</td>\n",
       "    </tr>\n",
       "    <tr>\n",
       "      <th>2</th>\n",
       "      <td>[[255, 255, 255, 255, 255, 255, 255, 255, 255,...</td>\n",
       "      <td>3</td>\n",
       "    </tr>\n",
       "    <tr>\n",
       "      <th>3</th>\n",
       "      <td>[[255, 255, 255, 255, 255, 255, 255, 255, 255,...</td>\n",
       "      <td>3</td>\n",
       "    </tr>\n",
       "    <tr>\n",
       "      <th>4</th>\n",
       "      <td>[[255, 255, 255, 255, 255, 255, 255, 255, 255,...</td>\n",
       "      <td>2</td>\n",
       "    </tr>\n",
       "  </tbody>\n",
       "</table>\n",
       "</div>"
      ],
      "text/plain": [
       "                                              Images Ratings\n",
       "0  [[255, 255, 255, 255, 255, 255, 255, 255, 255,...       3\n",
       "1  [[255, 255, 255, 255, 255, 255, 255, 255, 255,...       2\n",
       "2  [[255, 255, 255, 255, 255, 255, 255, 255, 255,...       3\n",
       "3  [[255, 255, 255, 255, 255, 255, 255, 255, 255,...       3\n",
       "4  [[255, 255, 255, 255, 255, 255, 255, 255, 255,...       2"
      ]
     },
     "execution_count": 20,
     "metadata": {},
     "output_type": "execute_result"
    }
   ],
   "source": [
    "print(len(data))\n",
    "data.head()"
   ]
  },
  {
   "cell_type": "code",
   "execution_count": 21,
   "metadata": {},
   "outputs": [],
   "source": [
    "def save_csv(name, filename):\n",
    "    name.to_csv('../output/' + filename, index=False)"
   ]
  },
  {
   "cell_type": "code",
   "execution_count": 22,
   "metadata": {},
   "outputs": [],
   "source": [
    "save_csv(df_landmarks, filename='landmarks_cleaned.csv')"
   ]
  },
  {
   "cell_type": "code",
   "execution_count": 23,
   "metadata": {},
   "outputs": [],
   "source": [
    "save_csv(data, filename='data_cleaned.csv')"
   ]
  },
  {
   "cell_type": "markdown",
   "metadata": {},
   "source": [
    "# MODELAJE"
   ]
  },
  {
   "cell_type": "code",
   "execution_count": 24,
   "metadata": {},
   "outputs": [],
   "source": [
    "img_cols = 200\n",
    "img_rows = 140"
   ]
  },
  {
   "cell_type": "code",
   "execution_count": 25,
   "metadata": {},
   "outputs": [
    {
     "data": {
      "text/html": [
       "<div>\n",
       "<style scoped>\n",
       "    .dataframe tbody tr th:only-of-type {\n",
       "        vertical-align: middle;\n",
       "    }\n",
       "\n",
       "    .dataframe tbody tr th {\n",
       "        vertical-align: top;\n",
       "    }\n",
       "\n",
       "    .dataframe thead th {\n",
       "        text-align: right;\n",
       "    }\n",
       "</style>\n",
       "<table border=\"1\" class=\"dataframe\">\n",
       "  <thead>\n",
       "    <tr style=\"text-align: right;\">\n",
       "      <th></th>\n",
       "      <th>0</th>\n",
       "      <th>1</th>\n",
       "      <th>2</th>\n",
       "      <th>3</th>\n",
       "      <th>4</th>\n",
       "      <th>5</th>\n",
       "      <th>6</th>\n",
       "      <th>7</th>\n",
       "      <th>8</th>\n",
       "      <th>9</th>\n",
       "      <th>...</th>\n",
       "      <th>27990</th>\n",
       "      <th>27991</th>\n",
       "      <th>27992</th>\n",
       "      <th>27993</th>\n",
       "      <th>27994</th>\n",
       "      <th>27995</th>\n",
       "      <th>27996</th>\n",
       "      <th>27997</th>\n",
       "      <th>27998</th>\n",
       "      <th>27999</th>\n",
       "    </tr>\n",
       "  </thead>\n",
       "  <tbody>\n",
       "    <tr>\n",
       "      <th>0</th>\n",
       "      <td>1.0</td>\n",
       "      <td>1.0</td>\n",
       "      <td>1.0</td>\n",
       "      <td>1.0</td>\n",
       "      <td>1.0</td>\n",
       "      <td>1.0</td>\n",
       "      <td>1.0</td>\n",
       "      <td>1.0</td>\n",
       "      <td>1.0</td>\n",
       "      <td>1.0</td>\n",
       "      <td>...</td>\n",
       "      <td>1.000000</td>\n",
       "      <td>1.000000</td>\n",
       "      <td>0.996078</td>\n",
       "      <td>1.000000</td>\n",
       "      <td>1.000000</td>\n",
       "      <td>1.000000</td>\n",
       "      <td>1.000000</td>\n",
       "      <td>1.000000</td>\n",
       "      <td>1.000000</td>\n",
       "      <td>0.996078</td>\n",
       "    </tr>\n",
       "    <tr>\n",
       "      <th>1</th>\n",
       "      <td>1.0</td>\n",
       "      <td>1.0</td>\n",
       "      <td>1.0</td>\n",
       "      <td>1.0</td>\n",
       "      <td>1.0</td>\n",
       "      <td>1.0</td>\n",
       "      <td>1.0</td>\n",
       "      <td>1.0</td>\n",
       "      <td>1.0</td>\n",
       "      <td>1.0</td>\n",
       "      <td>...</td>\n",
       "      <td>0.992157</td>\n",
       "      <td>0.992157</td>\n",
       "      <td>0.992157</td>\n",
       "      <td>0.992157</td>\n",
       "      <td>0.992157</td>\n",
       "      <td>0.992157</td>\n",
       "      <td>0.992157</td>\n",
       "      <td>0.992157</td>\n",
       "      <td>0.992157</td>\n",
       "      <td>0.992157</td>\n",
       "    </tr>\n",
       "    <tr>\n",
       "      <th>2</th>\n",
       "      <td>1.0</td>\n",
       "      <td>1.0</td>\n",
       "      <td>1.0</td>\n",
       "      <td>1.0</td>\n",
       "      <td>1.0</td>\n",
       "      <td>1.0</td>\n",
       "      <td>1.0</td>\n",
       "      <td>1.0</td>\n",
       "      <td>1.0</td>\n",
       "      <td>1.0</td>\n",
       "      <td>...</td>\n",
       "      <td>1.000000</td>\n",
       "      <td>1.000000</td>\n",
       "      <td>1.000000</td>\n",
       "      <td>1.000000</td>\n",
       "      <td>1.000000</td>\n",
       "      <td>1.000000</td>\n",
       "      <td>1.000000</td>\n",
       "      <td>1.000000</td>\n",
       "      <td>1.000000</td>\n",
       "      <td>1.000000</td>\n",
       "    </tr>\n",
       "    <tr>\n",
       "      <th>3</th>\n",
       "      <td>1.0</td>\n",
       "      <td>1.0</td>\n",
       "      <td>1.0</td>\n",
       "      <td>1.0</td>\n",
       "      <td>1.0</td>\n",
       "      <td>1.0</td>\n",
       "      <td>1.0</td>\n",
       "      <td>1.0</td>\n",
       "      <td>1.0</td>\n",
       "      <td>1.0</td>\n",
       "      <td>...</td>\n",
       "      <td>1.000000</td>\n",
       "      <td>1.000000</td>\n",
       "      <td>1.000000</td>\n",
       "      <td>1.000000</td>\n",
       "      <td>1.000000</td>\n",
       "      <td>1.000000</td>\n",
       "      <td>1.000000</td>\n",
       "      <td>1.000000</td>\n",
       "      <td>1.000000</td>\n",
       "      <td>1.000000</td>\n",
       "    </tr>\n",
       "    <tr>\n",
       "      <th>4</th>\n",
       "      <td>1.0</td>\n",
       "      <td>1.0</td>\n",
       "      <td>1.0</td>\n",
       "      <td>1.0</td>\n",
       "      <td>1.0</td>\n",
       "      <td>1.0</td>\n",
       "      <td>1.0</td>\n",
       "      <td>1.0</td>\n",
       "      <td>1.0</td>\n",
       "      <td>1.0</td>\n",
       "      <td>...</td>\n",
       "      <td>1.000000</td>\n",
       "      <td>0.992157</td>\n",
       "      <td>1.000000</td>\n",
       "      <td>1.000000</td>\n",
       "      <td>1.000000</td>\n",
       "      <td>1.000000</td>\n",
       "      <td>1.000000</td>\n",
       "      <td>1.000000</td>\n",
       "      <td>1.000000</td>\n",
       "      <td>1.000000</td>\n",
       "    </tr>\n",
       "  </tbody>\n",
       "</table>\n",
       "<p>5 rows × 28000 columns</p>\n",
       "</div>"
      ],
      "text/plain": [
       "   0      1      2      3      4      5      6      7      8      9      ...  \\\n",
       "0    1.0    1.0    1.0    1.0    1.0    1.0    1.0    1.0    1.0    1.0  ...   \n",
       "1    1.0    1.0    1.0    1.0    1.0    1.0    1.0    1.0    1.0    1.0  ...   \n",
       "2    1.0    1.0    1.0    1.0    1.0    1.0    1.0    1.0    1.0    1.0  ...   \n",
       "3    1.0    1.0    1.0    1.0    1.0    1.0    1.0    1.0    1.0    1.0  ...   \n",
       "4    1.0    1.0    1.0    1.0    1.0    1.0    1.0    1.0    1.0    1.0  ...   \n",
       "\n",
       "      27990     27991     27992     27993     27994     27995     27996  \\\n",
       "0  1.000000  1.000000  0.996078  1.000000  1.000000  1.000000  1.000000   \n",
       "1  0.992157  0.992157  0.992157  0.992157  0.992157  0.992157  0.992157   \n",
       "2  1.000000  1.000000  1.000000  1.000000  1.000000  1.000000  1.000000   \n",
       "3  1.000000  1.000000  1.000000  1.000000  1.000000  1.000000  1.000000   \n",
       "4  1.000000  0.992157  1.000000  1.000000  1.000000  1.000000  1.000000   \n",
       "\n",
       "      27997     27998     27999  \n",
       "0  1.000000  1.000000  0.996078  \n",
       "1  0.992157  0.992157  0.992157  \n",
       "2  1.000000  1.000000  1.000000  \n",
       "3  1.000000  1.000000  1.000000  \n",
       "4  1.000000  1.000000  1.000000  \n",
       "\n",
       "[5 rows x 28000 columns]"
      ]
     },
     "execution_count": 25,
     "metadata": {},
     "output_type": "execute_result"
    }
   ],
   "source": [
    "def reshape(e):\n",
    "    return e[0].reshape(e[0].shape[0]*e[0].shape[1])/255\n",
    "\n",
    "df_img = pd.DataFrame(data['Images'].iloc[0:597]).apply(reshape,axis=1, result_type=\"expand\")\n",
    "df_img.head()"
   ]
  },
  {
   "cell_type": "code",
   "execution_count": 26,
   "metadata": {},
   "outputs": [],
   "source": [
    "num_img = df_img.values.shape[0]\n",
    "df_img = df_img.values.reshape((img_rows, img_cols, num_img))"
   ]
  },
  {
   "cell_type": "code",
   "execution_count": 27,
   "metadata": {},
   "outputs": [
    {
     "data": {
      "text/plain": [
       "2    241\n",
       "3    238\n",
       "4     92\n",
       "1     19\n",
       "5      7\n",
       "0      0\n",
       "Name: Ratings, dtype: int64"
      ]
     },
     "execution_count": 27,
     "metadata": {},
     "output_type": "execute_result"
    }
   ],
   "source": [
    "data['Ratings'].value_counts()"
   ]
  },
  {
   "cell_type": "code",
   "execution_count": 28,
   "metadata": {},
   "outputs": [
    {
     "name": "stdout",
     "output_type": "stream",
     "text": [
      "(597, 200, 140) (597,)\n",
      "float64 int64\n"
     ]
    }
   ],
   "source": [
    "X = df_img.swapaxes(2,0)\n",
    "y = np.array(data['Ratings'].values)\n",
    "print(X.shape, y.shape)\n",
    "print(X.dtype, y.dtype)"
   ]
  },
  {
   "cell_type": "code",
   "execution_count": 29,
   "metadata": {},
   "outputs": [],
   "source": [
    "X_train, X_test, y_train, y_test = train_test_split(X, y, test_size=0.2, random_state=42)"
   ]
  },
  {
   "cell_type": "code",
   "execution_count": 30,
   "metadata": {},
   "outputs": [],
   "source": [
    "num_classes = 6\n",
    "\n",
    "if K.image_data_format() == 'channels_first':\n",
    "    X_train = x_train.reshape(X_train.shape[0], 1, img_rows, img_cols)\n",
    "    X_test = x_test.reshape(X_test.shape[0], 1, img_rows, img_cols)\n",
    "    input_shape = (1, img_rows, img_cols)\n",
    "else:\n",
    "    X_train = X_train.reshape(X_train.shape[0], img_rows, img_cols, 1)\n",
    "    X_test = X_test.reshape(X_test.shape[0], img_rows, img_cols, 1)\n",
    "    input_shape = (img_rows, img_cols, 1)"
   ]
  },
  {
   "cell_type": "code",
   "execution_count": 31,
   "metadata": {},
   "outputs": [
    {
     "name": "stdout",
     "output_type": "stream",
     "text": [
      "X_train shape: (477, 140, 200, 1)\n",
      "477 train samples\n",
      "120 test samples\n"
     ]
    }
   ],
   "source": [
    "X_train = X_train.astype('float32')\n",
    "X_test = X_test.astype('float32')\n",
    "print('X_train shape:', X_train.shape)\n",
    "print(X_train.shape[0], 'train samples')\n",
    "print(X_test.shape[0], 'test samples')"
   ]
  },
  {
   "cell_type": "code",
   "execution_count": 32,
   "metadata": {},
   "outputs": [
    {
     "name": "stdout",
     "output_type": "stream",
     "text": [
      "Y_train shape: (477, 6)\n"
     ]
    }
   ],
   "source": [
    "y_train = keras.utils.to_categorical(y_train, num_classes)\n",
    "y_test = keras.utils.to_categorical(y_test, num_classes)\n",
    "print('Y_train shape:', y_train.shape)"
   ]
  },
  {
   "cell_type": "code",
   "execution_count": 33,
   "metadata": {},
   "outputs": [
    {
     "name": "stdout",
     "output_type": "stream",
     "text": [
      "_________________________________________________________________\n",
      "Layer (type)                 Output Shape              Param #   \n",
      "=================================================================\n",
      "conv2d_1 (Conv2D)            (None, 138, 198, 140)     1400      \n",
      "_________________________________________________________________\n",
      "conv2d_2 (Conv2D)            (None, 136, 196, 200)     252200    \n",
      "_________________________________________________________________\n",
      "max_pooling2d_1 (MaxPooling2 (None, 68, 98, 200)       0         \n",
      "_________________________________________________________________\n",
      "dropout_1 (Dropout)          (None, 68, 98, 200)       0         \n",
      "_________________________________________________________________\n",
      "flatten_1 (Flatten)          (None, 1332800)           0         \n",
      "_________________________________________________________________\n",
      "dense_1 (Dense)              (None, 1)                 1332801   \n",
      "_________________________________________________________________\n",
      "dropout_2 (Dropout)          (None, 1)                 0         \n",
      "_________________________________________________________________\n",
      "dense_2 (Dense)              (None, 6)                 12        \n",
      "=================================================================\n",
      "Total params: 1,586,413\n",
      "Trainable params: 1,586,413\n",
      "Non-trainable params: 0\n",
      "_________________________________________________________________\n"
     ]
    }
   ],
   "source": [
    "model = Sequential()\n",
    "model.add(Conv2D(140, kernel_size=(3, 3),\n",
    "                 activation='relu',\n",
    "                 input_shape=input_shape))\n",
    "model.add(Conv2D(200, (3, 3), activation='relu'))\n",
    "model.add(MaxPooling2D(pool_size=(2, 2)))\n",
    "model.add(Dropout(0.25))\n",
    "model.add(Flatten())\n",
    "model.add(Dense(1, activation='relu'))\n",
    "model.add(Dropout(0.5))\n",
    "model.add(Dense(num_classes, activation='softmax'))\n",
    "\n",
    "model.compile(loss=keras.losses.categorical_crossentropy,\n",
    "              optimizer=keras.optimizers.Adadelta(),\n",
    "              metrics=['accuracy'])\n",
    "model.summary()"
   ]
  },
  {
   "cell_type": "code",
   "execution_count": 34,
   "metadata": {},
   "outputs": [
    {
     "name": "stdout",
     "output_type": "stream",
     "text": [
      "Train on 477 samples, validate on 120 samples\n",
      "Epoch 1/10\n",
      "477/477 [==============================] - 823s 2s/step - loss: 1.7763 - acc: 0.3857 - val_loss: 1.7584 - val_acc: 0.4333\n",
      "Epoch 2/10\n",
      "477/477 [==============================] - 600s 1s/step - loss: 1.7445 - acc: 0.3899 - val_loss: 1.7270 - val_acc: 0.4333\n",
      "Epoch 3/10\n",
      "477/477 [==============================] - 598s 1s/step - loss: 1.7144 - acc: 0.3899 - val_loss: 1.6972 - val_acc: 0.4333\n",
      "Epoch 4/10\n",
      "477/477 [==============================] - 598s 1s/step - loss: 1.6857 - acc: 0.3899 - val_loss: 1.6690 - val_acc: 0.4333\n",
      "Epoch 5/10\n",
      "477/477 [==============================] - 598s 1s/step - loss: 1.6586 - acc: 0.3899 - val_loss: 1.6425 - val_acc: 0.4333\n",
      "Epoch 6/10\n",
      "477/477 [==============================] - 597s 1s/step - loss: 1.6330 - acc: 0.3899 - val_loss: 1.6174 - val_acc: 0.4333\n",
      "Epoch 7/10\n",
      "477/477 [==============================] - 599s 1s/step - loss: 1.6087 - acc: 0.3899 - val_loss: 1.5939 - val_acc: 0.4333\n",
      "Epoch 8/10\n",
      "477/477 [==============================] - 597s 1s/step - loss: 1.5858 - acc: 0.3899 - val_loss: 1.5718 - val_acc: 0.4333\n",
      "Epoch 9/10\n",
      "477/477 [==============================] - 597s 1s/step - loss: 1.5643 - acc: 0.3899 - val_loss: 1.5510 - val_acc: 0.4333\n",
      "Epoch 10/10\n",
      "477/477 [==============================] - 597s 1s/step - loss: 1.5441 - acc: 0.3899 - val_loss: 1.5316 - val_acc: 0.4333\n"
     ]
    },
    {
     "data": {
      "text/plain": [
       "<keras.callbacks.History at 0x7fcb13353f98>"
      ]
     },
     "execution_count": 34,
     "metadata": {},
     "output_type": "execute_result"
    }
   ],
   "source": [
    "batch_size = 20\n",
    "epochs = 10\n",
    "\n",
    "model.fit(X_train, y_train,\n",
    "          batch_size=batch_size,\n",
    "          epochs=epochs,\n",
    "          verbose=1,\n",
    "          validation_data=(X_test, y_test))"
   ]
  },
  {
   "cell_type": "code",
   "execution_count": 35,
   "metadata": {},
   "outputs": [
    {
     "name": "stdout",
     "output_type": "stream",
     "text": [
      "Test loss: 1.5315502484639485\n",
      "Test accuracy: 0.43333333333333335\n"
     ]
    }
   ],
   "source": [
    "score = model.evaluate(X_test, y_test, verbose=0)\n",
    "print('Test loss:', score[0])\n",
    "print('Test accuracy:', score[1])"
   ]
  },
  {
   "cell_type": "code",
   "execution_count": 36,
   "metadata": {},
   "outputs": [
    {
     "name": "stdout",
     "output_type": "stream",
     "text": [
      "Rating: 3.719101124\n",
      "Probs -> 1: 0.11980 2: 0.12639 3: 0.22140 4: 0.24992 5: 0.16126\n"
     ]
    },
    {
     "data": {
      "image/png": "[encoded data removed]",
      "text/plain": [
       "<Figure size 1512x504 with 3 Axes>"
      ]
     },
     "metadata": {
      "needs_background": "light"
     },
     "output_type": "display_data"
    }
   ],
   "source": [
    "img = X_test[0]\n",
    "pred = model.predict(np.expand_dims(img, axis=0))[0]\n",
    "print('Rating: {}'.format(value[478]))\n",
    "print(\"Probs -> 1: {0:.5f} 2: {1:.5f} 3: {2:.5f} 4: {3:.5f} 5: {4:.5f}\".format(pred[0], pred[1], pred[2], pred[3], pred[4], pred[5]))\n",
    "plot_landmarks(images_array[478], landmarks[478], to_print=False)"
   ]
  },
  {
   "cell_type": "code",
   "execution_count": null,
   "metadata": {},
   "outputs": [],
   "source": []
  }
 ],
 "metadata": {
  "kernelspec": {
   "display_name": "Python 3",
   "language": "python",
   "name": "python3"
  },
  "language_info": {
   "codemirror_mode": {
    "name": "ipython",
    "version": 3
   },
   "file_extension": ".py",
   "mimetype": "text/x-python",
   "name": "python",
   "nbconvert_exporter": "python",
   "pygments_lexer": "ipython3",
   "version": "3.6.7"
  }
 },
 "nbformat": 4,
 "nbformat_minor": 2
}
